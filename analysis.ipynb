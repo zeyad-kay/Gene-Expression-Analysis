{
 "metadata": {
  "language_info": {
   "codemirror_mode": {
    "name": "ipython",
    "version": 3
   },
   "file_extension": ".py",
   "mimetype": "text/x-python",
   "name": "python",
   "nbconvert_exporter": "python",
   "pygments_lexer": "ipython3",
   "version": "3.8.0-final"
  },
  "orig_nbformat": 2,
  "kernelspec": {
   "name": "python3",
   "display_name": "Python 3",
   "language": "python"
  }
 },
 "nbformat": 4,
 "nbformat_minor": 2,
 "cells": [
  {
   "cell_type": "code",
   "execution_count": 1,
   "metadata": {},
   "outputs": [],
   "source": [
    "import pandas as pd\n",
    "import numpy as np\n",
    "import matplotlib.pyplot as plt\n",
    "from scipy import stats"
   ]
  },
  {
   "cell_type": "code",
   "execution_count": 2,
   "metadata": {},
   "outputs": [],
   "source": [
    "#Load the datasets into Dataframes\n",
    "healthy_data = pd.read_csv(\"healthy.txt\",delimiter=\"\\t\",header=0)\n",
    "cancer_data = pd.read_csv(\"cancer.txt\",delimiter=\"\\t\",header=0)\n",
    "healthy_df = pd.DataFrame(healthy_data)\n",
    "cancer_df = pd.DataFrame(cancer_data)"
   ]
  },
  {
   "cell_type": "code",
   "execution_count": 3,
   "metadata": {},
   "outputs": [
    {
     "output_type": "stream",
     "name": "stdout",
     "text": [
      "(19648, 52)\n"
     ]
    },
    {
     "output_type": "execute_result",
     "data": {
      "text/plain": [
       "  Hugo_Symbol  Entrez_Gene_Id  TCGA-43-7657  TCGA-58-8386  TCGA-22-5478  \\\n",
       "0    HIST3H2A           92815         62.12        130.60         33.06   \n",
       "1       LIN7B           64130        185.11        283.05        119.26   \n",
       "2         LXN           56925        909.17        819.30        412.00   \n",
       "3      CNKSR2           22866         41.81         18.29         40.93   \n",
       "4       SCML1            6322        133.36        214.27        108.14   \n",
       "\n",
       "   TCGA-22-5472  TCGA-43-5670  TCGA-60-2709  TCGA-22-5489  TCGA-77-8007  ...  \\\n",
       "0         35.50         73.03         60.39         92.05         66.65  ...   \n",
       "1        169.07        165.57        161.02        131.51        198.47  ...   \n",
       "2        743.43       1340.84        607.87       1709.26       1709.26  ...   \n",
       "3         67.12         54.72         29.27         20.26         23.76  ...   \n",
       "4        109.66        190.34        211.31         96.01        208.38  ...   \n",
       "\n",
       "   TCGA-85-7710  TCGA-56-7580  TCGA-43-6647  TCGA-90-6837  TCGA-56-8083  \\\n",
       "0         90.77         59.55         40.07         22.92         29.91   \n",
       "1        185.11        119.26        102.97        123.50        264.03   \n",
       "2        813.63       2400.97        543.96       2193.99        540.19   \n",
       "3         34.51         70.01         57.49         57.89         67.12   \n",
       "4        251.48        209.84        120.10        109.66        155.50   \n",
       "\n",
       "   TCGA-51-4079  TCGA-56-7222  TCGA-22-4593  TCGA-51-4081  TCGA-56-8309  \n",
       "0         82.29          4.70         37.32         43.63         77.25  \n",
       "1        194.36        166.73        105.15        185.11        356.05  \n",
       "2        521.76        253.23        764.36        518.15        878.17  \n",
       "3         34.51         22.10         31.90         28.24         49.91  \n",
       "4        162.14        277.20         86.43        164.42        155.50  \n",
       "\n",
       "[5 rows x 52 columns]"
      ],
      "text/html": "<div>\n<style scoped>\n    .dataframe tbody tr th:only-of-type {\n        vertical-align: middle;\n    }\n\n    .dataframe tbody tr th {\n        vertical-align: top;\n    }\n\n    .dataframe thead th {\n        text-align: right;\n    }\n</style>\n<table border=\"1\" class=\"dataframe\">\n  <thead>\n    <tr style=\"text-align: right;\">\n      <th></th>\n      <th>Hugo_Symbol</th>\n      <th>Entrez_Gene_Id</th>\n      <th>TCGA-43-7657</th>\n      <th>TCGA-58-8386</th>\n      <th>TCGA-22-5478</th>\n      <th>TCGA-22-5472</th>\n      <th>TCGA-43-5670</th>\n      <th>TCGA-60-2709</th>\n      <th>TCGA-22-5489</th>\n      <th>TCGA-77-8007</th>\n      <th>...</th>\n      <th>TCGA-85-7710</th>\n      <th>TCGA-56-7580</th>\n      <th>TCGA-43-6647</th>\n      <th>TCGA-90-6837</th>\n      <th>TCGA-56-8083</th>\n      <th>TCGA-51-4079</th>\n      <th>TCGA-56-7222</th>\n      <th>TCGA-22-4593</th>\n      <th>TCGA-51-4081</th>\n      <th>TCGA-56-8309</th>\n    </tr>\n  </thead>\n  <tbody>\n    <tr>\n      <th>0</th>\n      <td>HIST3H2A</td>\n      <td>92815</td>\n      <td>62.12</td>\n      <td>130.60</td>\n      <td>33.06</td>\n      <td>35.50</td>\n      <td>73.03</td>\n      <td>60.39</td>\n      <td>92.05</td>\n      <td>66.65</td>\n      <td>...</td>\n      <td>90.77</td>\n      <td>59.55</td>\n      <td>40.07</td>\n      <td>22.92</td>\n      <td>29.91</td>\n      <td>82.29</td>\n      <td>4.70</td>\n      <td>37.32</td>\n      <td>43.63</td>\n      <td>77.25</td>\n    </tr>\n    <tr>\n      <th>1</th>\n      <td>LIN7B</td>\n      <td>64130</td>\n      <td>185.11</td>\n      <td>283.05</td>\n      <td>119.26</td>\n      <td>169.07</td>\n      <td>165.57</td>\n      <td>161.02</td>\n      <td>131.51</td>\n      <td>198.47</td>\n      <td>...</td>\n      <td>185.11</td>\n      <td>119.26</td>\n      <td>102.97</td>\n      <td>123.50</td>\n      <td>264.03</td>\n      <td>194.36</td>\n      <td>166.73</td>\n      <td>105.15</td>\n      <td>185.11</td>\n      <td>356.05</td>\n    </tr>\n    <tr>\n      <th>2</th>\n      <td>LXN</td>\n      <td>56925</td>\n      <td>909.17</td>\n      <td>819.30</td>\n      <td>412.00</td>\n      <td>743.43</td>\n      <td>1340.84</td>\n      <td>607.87</td>\n      <td>1709.26</td>\n      <td>1709.26</td>\n      <td>...</td>\n      <td>813.63</td>\n      <td>2400.97</td>\n      <td>543.96</td>\n      <td>2193.99</td>\n      <td>540.19</td>\n      <td>521.76</td>\n      <td>253.23</td>\n      <td>764.36</td>\n      <td>518.15</td>\n      <td>878.17</td>\n    </tr>\n    <tr>\n      <th>3</th>\n      <td>CNKSR2</td>\n      <td>22866</td>\n      <td>41.81</td>\n      <td>18.29</td>\n      <td>40.93</td>\n      <td>67.12</td>\n      <td>54.72</td>\n      <td>29.27</td>\n      <td>20.26</td>\n      <td>23.76</td>\n      <td>...</td>\n      <td>34.51</td>\n      <td>70.01</td>\n      <td>57.49</td>\n      <td>57.89</td>\n      <td>67.12</td>\n      <td>34.51</td>\n      <td>22.10</td>\n      <td>31.90</td>\n      <td>28.24</td>\n      <td>49.91</td>\n    </tr>\n    <tr>\n      <th>4</th>\n      <td>SCML1</td>\n      <td>6322</td>\n      <td>133.36</td>\n      <td>214.27</td>\n      <td>108.14</td>\n      <td>109.66</td>\n      <td>190.34</td>\n      <td>211.31</td>\n      <td>96.01</td>\n      <td>208.38</td>\n      <td>...</td>\n      <td>251.48</td>\n      <td>209.84</td>\n      <td>120.10</td>\n      <td>109.66</td>\n      <td>155.50</td>\n      <td>162.14</td>\n      <td>277.20</td>\n      <td>86.43</td>\n      <td>164.42</td>\n      <td>155.50</td>\n    </tr>\n  </tbody>\n</table>\n<p>5 rows × 52 columns</p>\n</div>"
     },
     "metadata": {},
     "execution_count": 3
    }
   ],
   "source": [
    "print(healthy_df.shape)\n",
    "healthy_df.head(5)"
   ]
  },
  {
   "cell_type": "code",
   "execution_count": 4,
   "metadata": {},
   "outputs": [
    {
     "output_type": "stream",
     "name": "stdout",
     "text": [
      "(19648, 52)\n"
     ]
    },
    {
     "output_type": "execute_result",
     "data": {
      "text/plain": [
       "  Hugo_Symbol  Entrez_Gene_Id  TCGA-43-7657  TCGA-58-8386  TCGA-22-5478  \\\n",
       "0    HIST3H2A           92815        336.79        500.46        703.28   \n",
       "1       LIN7B           64130        105.15        212.78        102.25   \n",
       "2         LXN           56925        848.22        236.21        271.48   \n",
       "3      CNKSR2           22866         32.59          8.51         45.85   \n",
       "4       SCML1            6322         84.63         74.58         67.12   \n",
       "\n",
       "   TCGA-22-5472  TCGA-43-5670  TCGA-60-2709  TCGA-22-5489  TCGA-77-8007  ...  \\\n",
       "0        287.01        486.75         70.51        145.02         14.03  ...   \n",
       "1        212.78        172.65        244.57        105.89        152.28  ...   \n",
       "2        759.08         61.25        620.67        329.84        599.49  ...   \n",
       "3          6.16         49.21         11.91         12.27         15.00  ...   \n",
       "4         57.89        102.97        132.44         66.65         57.08  ...   \n",
       "\n",
       "   TCGA-85-7710  TCGA-56-7580  TCGA-43-6647  TCGA-90-6837  TCGA-56-8083  \\\n",
       "0          3.06        420.68        109.66        106.63       1233.75   \n",
       "1        135.24        135.24        151.22        395.18        295.11   \n",
       "2        688.78        204.07        438.59        503.95       3039.30   \n",
       "3          1.38          6.62          6.11          1.66         33.54   \n",
       "4        165.57        119.26         87.65         53.57        232.94   \n",
       "\n",
       "   TCGA-51-4079  TCGA-56-7222  TCGA-22-4593  TCGA-51-4081  TCGA-56-8309  \n",
       "0        172.65        303.44        228.13        251.48         23.59  \n",
       "1        120.94        114.36         96.68        277.20        153.34  \n",
       "2        607.87        106.63        507.46        255.00        346.29  \n",
       "3          3.11          0.82          3.32         27.25          6.16  \n",
       "4         67.12         64.80         90.14        198.47        154.42  \n",
       "\n",
       "[5 rows x 52 columns]"
      ],
      "text/html": "<div>\n<style scoped>\n    .dataframe tbody tr th:only-of-type {\n        vertical-align: middle;\n    }\n\n    .dataframe tbody tr th {\n        vertical-align: top;\n    }\n\n    .dataframe thead th {\n        text-align: right;\n    }\n</style>\n<table border=\"1\" class=\"dataframe\">\n  <thead>\n    <tr style=\"text-align: right;\">\n      <th></th>\n      <th>Hugo_Symbol</th>\n      <th>Entrez_Gene_Id</th>\n      <th>TCGA-43-7657</th>\n      <th>TCGA-58-8386</th>\n      <th>TCGA-22-5478</th>\n      <th>TCGA-22-5472</th>\n      <th>TCGA-43-5670</th>\n      <th>TCGA-60-2709</th>\n      <th>TCGA-22-5489</th>\n      <th>TCGA-77-8007</th>\n      <th>...</th>\n      <th>TCGA-85-7710</th>\n      <th>TCGA-56-7580</th>\n      <th>TCGA-43-6647</th>\n      <th>TCGA-90-6837</th>\n      <th>TCGA-56-8083</th>\n      <th>TCGA-51-4079</th>\n      <th>TCGA-56-7222</th>\n      <th>TCGA-22-4593</th>\n      <th>TCGA-51-4081</th>\n      <th>TCGA-56-8309</th>\n    </tr>\n  </thead>\n  <tbody>\n    <tr>\n      <th>0</th>\n      <td>HIST3H2A</td>\n      <td>92815</td>\n      <td>336.79</td>\n      <td>500.46</td>\n      <td>703.28</td>\n      <td>287.01</td>\n      <td>486.75</td>\n      <td>70.51</td>\n      <td>145.02</td>\n      <td>14.03</td>\n      <td>...</td>\n      <td>3.06</td>\n      <td>420.68</td>\n      <td>109.66</td>\n      <td>106.63</td>\n      <td>1233.75</td>\n      <td>172.65</td>\n      <td>303.44</td>\n      <td>228.13</td>\n      <td>251.48</td>\n      <td>23.59</td>\n    </tr>\n    <tr>\n      <th>1</th>\n      <td>LIN7B</td>\n      <td>64130</td>\n      <td>105.15</td>\n      <td>212.78</td>\n      <td>102.25</td>\n      <td>212.78</td>\n      <td>172.65</td>\n      <td>244.57</td>\n      <td>105.89</td>\n      <td>152.28</td>\n      <td>...</td>\n      <td>135.24</td>\n      <td>135.24</td>\n      <td>151.22</td>\n      <td>395.18</td>\n      <td>295.11</td>\n      <td>120.94</td>\n      <td>114.36</td>\n      <td>96.68</td>\n      <td>277.20</td>\n      <td>153.34</td>\n    </tr>\n    <tr>\n      <th>2</th>\n      <td>LXN</td>\n      <td>56925</td>\n      <td>848.22</td>\n      <td>236.21</td>\n      <td>271.48</td>\n      <td>759.08</td>\n      <td>61.25</td>\n      <td>620.67</td>\n      <td>329.84</td>\n      <td>599.49</td>\n      <td>...</td>\n      <td>688.78</td>\n      <td>204.07</td>\n      <td>438.59</td>\n      <td>503.95</td>\n      <td>3039.30</td>\n      <td>607.87</td>\n      <td>106.63</td>\n      <td>507.46</td>\n      <td>255.00</td>\n      <td>346.29</td>\n    </tr>\n    <tr>\n      <th>3</th>\n      <td>CNKSR2</td>\n      <td>22866</td>\n      <td>32.59</td>\n      <td>8.51</td>\n      <td>45.85</td>\n      <td>6.16</td>\n      <td>49.21</td>\n      <td>11.91</td>\n      <td>12.27</td>\n      <td>15.00</td>\n      <td>...</td>\n      <td>1.38</td>\n      <td>6.62</td>\n      <td>6.11</td>\n      <td>1.66</td>\n      <td>33.54</td>\n      <td>3.11</td>\n      <td>0.82</td>\n      <td>3.32</td>\n      <td>27.25</td>\n      <td>6.16</td>\n    </tr>\n    <tr>\n      <th>4</th>\n      <td>SCML1</td>\n      <td>6322</td>\n      <td>84.63</td>\n      <td>74.58</td>\n      <td>67.12</td>\n      <td>57.89</td>\n      <td>102.97</td>\n      <td>132.44</td>\n      <td>66.65</td>\n      <td>57.08</td>\n      <td>...</td>\n      <td>165.57</td>\n      <td>119.26</td>\n      <td>87.65</td>\n      <td>53.57</td>\n      <td>232.94</td>\n      <td>67.12</td>\n      <td>64.80</td>\n      <td>90.14</td>\n      <td>198.47</td>\n      <td>154.42</td>\n    </tr>\n  </tbody>\n</table>\n<p>5 rows × 52 columns</p>\n</div>"
     },
     "metadata": {},
     "execution_count": 4
    }
   ],
   "source": [
    "print(cancer_df.shape)\n",
    "cancer_df.head(5)"
   ]
  },
  {
   "cell_type": "code",
   "execution_count": 5,
   "metadata": {},
   "outputs": [
    {
     "output_type": "stream",
     "name": "stdout",
     "text": [
      "Healthy Rows: 17773\nCancer Rows: 17895\n"
     ]
    }
   ],
   "source": [
    "#Replace all zero values with NAN\n",
    "healthy_df.replace(0,np.nan,True)\n",
    "cancer_df.replace(0,np.nan,True)\n",
    "#Drop all Rows with NAN values over 50% \n",
    "healthy_df.dropna(0,'any',healthy_df.columns[2:].size/2,inplace=True)\n",
    "cancer_df.dropna(0,'any',cancer_df.columns[2:].size/2,inplace=True)\n",
    "\n",
    "print(\"Healthy Rows:\",healthy_df.shape[0])\n",
    "print(\"Cancer Rows:\",cancer_df.shape[0])"
   ]
  },
  {
   "cell_type": "code",
   "execution_count": 6,
   "metadata": {},
   "outputs": [
    {
     "output_type": "stream",
     "name": "stdout",
     "text": [
      "Healthy Rows:  17459\nCancer Rows:  17459\n"
     ]
    }
   ],
   "source": [
    "#Take only common rows in both dataframes\n",
    "filtered_healthy_df,filtered_cancer_df = healthy_df.align(cancer_df,join='inner',axis=0)\n",
    "filtered_healthy_df.reset_index(drop=True,inplace=True)\n",
    "filtered_cancer_df.reset_index(drop=True,inplace=True)\n",
    "#Replace all NAN values with zero\n",
    "filtered_healthy_df.replace(np.nan,0,True)\n",
    "filtered_cancer_df.replace(np.nan,0,True)\n",
    "\n",
    "print(\"Healthy Rows: \",filtered_healthy_df.shape[0])\n",
    "print(\"Cancer Rows: \",filtered_cancer_df.shape[0])"
   ]
  },
  {
   "cell_type": "code",
   "execution_count": 7,
   "metadata": {},
   "outputs": [],
   "source": [
    "#Calculate Correlation Coefficient\n",
    "corr_coeff = [stats.pearsonr(h_row[1][2:],c_row[1][2:])[0] for h_row,c_row in zip(filtered_healthy_df.iterrows(),filtered_cancer_df.iterrows())]"
   ]
  },
  {
   "cell_type": "code",
   "execution_count": 8,
   "metadata": {},
   "outputs": [
    {
     "output_type": "execute_result",
     "data": {
      "text/plain": [
       "      Hugo_Symbol  corr_coeff\n",
       "10911       AREGB    0.969044\n",
       "5417        OR7D2    0.930574\n",
       "13514      GUCA1A    0.878029\n",
       "6634     MTRNR2L2    0.847577\n",
       "17108      NUTM2E    0.826948"
      ],
      "text/html": "<div>\n<style scoped>\n    .dataframe tbody tr th:only-of-type {\n        vertical-align: middle;\n    }\n\n    .dataframe tbody tr th {\n        vertical-align: top;\n    }\n\n    .dataframe thead th {\n        text-align: right;\n    }\n</style>\n<table border=\"1\" class=\"dataframe\">\n  <thead>\n    <tr style=\"text-align: right;\">\n      <th></th>\n      <th>Hugo_Symbol</th>\n      <th>corr_coeff</th>\n    </tr>\n  </thead>\n  <tbody>\n    <tr>\n      <th>10911</th>\n      <td>AREGB</td>\n      <td>0.969044</td>\n    </tr>\n    <tr>\n      <th>5417</th>\n      <td>OR7D2</td>\n      <td>0.930574</td>\n    </tr>\n    <tr>\n      <th>13514</th>\n      <td>GUCA1A</td>\n      <td>0.878029</td>\n    </tr>\n    <tr>\n      <th>6634</th>\n      <td>MTRNR2L2</td>\n      <td>0.847577</td>\n    </tr>\n    <tr>\n      <th>17108</th>\n      <td>NUTM2E</td>\n      <td>0.826948</td>\n    </tr>\n  </tbody>\n</table>\n</div>"
     },
     "metadata": {},
     "execution_count": 8
    }
   ],
   "source": [
    "#Create a new Dataframe with Correlation Coefficients\n",
    "corr_coeff_df = pd.DataFrame(corr_coeff,columns=['corr_coeff'])\n",
    "corr_coeff_df.insert(0,'Hugo_Symbol',filtered_healthy_df['Hugo_Symbol'])\n",
    "corr_coeff_df.sort_values(by=['corr_coeff'],inplace=True,ascending=False)\n",
    "corr_coeff_df.head(5)"
   ]
  },
  {
   "cell_type": "code",
   "execution_count": 9,
   "metadata": {},
   "outputs": [
    {
     "output_type": "stream",
     "name": "stdout",
     "text": [
      "      Hugo_Symbol  corr_coeff\n10911       AREGB    0.969044\n      Hugo_Symbol  corr_coeff\n13070     FAM222B   -0.452807\n"
     ]
    }
   ],
   "source": [
    "max_gene = corr_coeff_df.head(1)\n",
    "min_gene = corr_coeff_df.tail(1)\n",
    "print(max_gene)\n",
    "print(min_gene)"
   ]
  },
  {
   "cell_type": "code",
   "execution_count": 10,
   "metadata": {},
   "outputs": [
    {
     "output_type": "execute_result",
     "data": {
      "text/plain": [
       "Text(0.5, 0.98, 'Genes with the Highest and Lowest Correlation Coefficient')"
      ]
     },
     "metadata": {},
     "execution_count": 10
    },
    {
     "output_type": "display_data",
     "data": {
      "text/plain": "<Figure size 1080x504 with 2 Axes>",
      "image/svg+xml": "<?xml version=\"1.0\" encoding=\"utf-8\" standalone=\"no\"?>\n<!DOCTYPE svg PUBLIC \"-//W3C//DTD SVG 1.1//EN\"\n  \"http://www.w3.org/Graphics/SVG/1.1/DTD/svg11.dtd\">\n<!-- Created with matplotlib (https://matplotlib.org/) -->\n<svg height=\"475.67625pt\" version=\"1.1\" viewBox=\"0 0 891.165625 475.67625\" width=\"891.165625pt\" xmlns=\"http://www.w3.org/2000/svg\" xmlns:xlink=\"http://www.w3.org/1999/xlink\">\n <metadata>\n  <rdf:RDF xmlns:cc=\"http://creativecommons.org/ns#\" xmlns:dc=\"http://purl.org/dc/elements/1.1/\" xmlns:rdf=\"http://www.w3.org/1999/02/22-rdf-syntax-ns#\">\n   <cc:Work>\n    <dc:type rdf:resource=\"http://purl.org/dc/dcmitype/StillImage\"/>\n    <dc:date>2021-01-18T22:21:08.826497</dc:date>\n    <dc:format>image/svg+xml</dc:format>\n    <dc:creator>\n     <cc:Agent>\n      <dc:title>Matplotlib v3.3.3, https://matplotlib.org/</dc:title>\n     </cc:Agent>\n    </dc:creator>\n   </cc:Work>\n  </rdf:RDF>\n </metadata>\n <defs>\n  <style type=\"text/css\">*{stroke-linecap:butt;stroke-linejoin:round;}</style>\n </defs>\n <g id=\"figure_1\">\n  <g id=\"patch_1\">\n   <path d=\"M 0 475.67625 \nL 891.165625 475.67625 \nL 891.165625 0 \nL 0 0 \nz\n\" style=\"fill:none;\"/>\n  </g>\n  <g id=\"axes_1\">\n   <g id=\"patch_2\">\n    <path d=\"M 46.965625 438.12 \nL 427.42017 438.12 \nL 427.42017 57.6 \nL 46.965625 57.6 \nz\n\" style=\"fill:#ffffff;\"/>\n   </g>\n   <g id=\"PathCollection_1\">\n    <defs>\n     <path d=\"M 0 3 \nC 0.795609 3 1.55874 2.683901 2.12132 2.12132 \nC 2.683901 1.55874 3 0.795609 3 0 \nC 3 -0.795609 2.683901 -1.55874 2.12132 -2.12132 \nC 1.55874 -2.683901 0.795609 -3 0 -3 \nC -0.795609 -3 -1.55874 -2.683901 -2.12132 -2.12132 \nC -2.683901 -1.55874 -3 -0.795609 -3 0 \nC -3 0.795609 -2.683901 1.55874 -2.12132 2.12132 \nC -1.55874 2.683901 -0.795609 3 0 3 \nz\n\" id=\"mf22229d31f\" style=\"stroke:#1f77b4;\"/>\n    </defs>\n    <g clip-path=\"url(#pcc5ec7f843)\">\n     <use style=\"fill:#1f77b4;stroke:#1f77b4;\" x=\"67.902148\" xlink:href=\"#mf22229d31f\" y=\"420.823636\"/>\n     <use style=\"fill:#1f77b4;stroke:#1f77b4;\" x=\"77.983633\" xlink:href=\"#mf22229d31f\" y=\"398.79884\"/>\n     <use style=\"fill:#1f77b4;stroke:#1f77b4;\" x=\"66.865633\" xlink:href=\"#mf22229d31f\" y=\"420.36742\"/>\n     <use style=\"fill:#1f77b4;stroke:#1f77b4;\" x=\"65.447325\" xlink:href=\"#mf22229d31f\" y=\"420.361924\"/>\n     <use style=\"fill:#1f77b4;stroke:#1f77b4;\" x=\"66.183312\" xlink:href=\"#mf22229d31f\" y=\"408.764139\"/>\n     <use style=\"fill:#1f77b4;stroke:#1f77b4;\" x=\"70.272638\" xlink:href=\"#mf22229d31f\" y=\"417.624627\"/>\n     <use style=\"fill:#1f77b4;stroke:#1f77b4;\" x=\"69.43852\" xlink:href=\"#mf22229d31f\" y=\"420.823636\"/>\n     <use style=\"fill:#1f77b4;stroke:#1f77b4;\" x=\"64.967401\" xlink:href=\"#mf22229d31f\" y=\"414.128802\"/>\n     <use style=\"fill:#1f77b4;stroke:#1f77b4;\" x=\"68.779199\" xlink:href=\"#mf22229d31f\" y=\"415.920687\"/>\n     <use style=\"fill:#1f77b4;stroke:#1f77b4;\" x=\"78.980282\" xlink:href=\"#mf22229d31f\" y=\"419.048241\"/>\n     <use style=\"fill:#1f77b4;stroke:#1f77b4;\" x=\"65.888917\" xlink:href=\"#mf22229d31f\" y=\"416.492331\"/>\n     <use style=\"fill:#1f77b4;stroke:#1f77b4;\" x=\"81.430504\" xlink:href=\"#mf22229d31f\" y=\"420.230006\"/>\n     <use style=\"fill:#1f77b4;stroke:#1f77b4;\" x=\"65.701854\" xlink:href=\"#mf22229d31f\" y=\"417.729062\"/>\n     <use style=\"fill:#1f77b4;stroke:#1f77b4;\" x=\"71.191089\" xlink:href=\"#mf22229d31f\" y=\"412.820616\"/>\n     <use style=\"fill:#1f77b4;stroke:#1f77b4;\" x=\"99.727441\" xlink:href=\"#mf22229d31f\" y=\"418.240244\"/>\n     <use style=\"fill:#1f77b4;stroke:#1f77b4;\" x=\"66.071381\" xlink:href=\"#mf22229d31f\" y=\"414.277209\"/>\n     <use style=\"fill:#1f77b4;stroke:#1f77b4;\" x=\"67.210627\" xlink:href=\"#mf22229d31f\" y=\"418.45461\"/>\n     <use style=\"fill:#1f77b4;stroke:#1f77b4;\" x=\"66.31671\" xlink:href=\"#mf22229d31f\" y=\"414.128802\"/>\n     <use style=\"fill:#1f77b4;stroke:#1f77b4;\" x=\"64.42461\" xlink:href=\"#mf22229d31f\" y=\"419.911204\"/>\n     <use style=\"fill:#1f77b4;stroke:#1f77b4;\" x=\"65.615989\" xlink:href=\"#mf22229d31f\" y=\"420.565297\"/>\n     <use style=\"fill:#1f77b4;stroke:#1f77b4;\" x=\"68.009479\" xlink:href=\"#mf22229d31f\" y=\"407.285559\"/>\n     <use style=\"fill:#1f77b4;stroke:#1f77b4;\" x=\"66.256911\" xlink:href=\"#mf22229d31f\" y=\"420.823636\"/>\n     <use style=\"fill:#1f77b4;stroke:#1f77b4;\" x=\"66.663237\" xlink:href=\"#mf22229d31f\" y=\"420.823636\"/>\n     <use style=\"fill:#1f77b4;stroke:#1f77b4;\" x=\"410.126782\" xlink:href=\"#mf22229d31f\" y=\"74.896364\"/>\n     <use style=\"fill:#1f77b4;stroke:#1f77b4;\" x=\"80.047462\" xlink:href=\"#mf22229d31f\" y=\"414.326679\"/>\n     <use style=\"fill:#1f77b4;stroke:#1f77b4;\" x=\"108.884343\" xlink:href=\"#mf22229d31f\" y=\"375.273477\"/>\n     <use style=\"fill:#1f77b4;stroke:#1f77b4;\" x=\"67.797883\" xlink:href=\"#mf22229d31f\" y=\"418.949303\"/>\n     <use style=\"fill:#1f77b4;stroke:#1f77b4;\" x=\"64.490543\" xlink:href=\"#mf22229d31f\" y=\"412.518304\"/>\n     <use style=\"fill:#1f77b4;stroke:#1f77b4;\" x=\"159.426699\" xlink:href=\"#mf22229d31f\" y=\"420.823636\"/>\n     <use style=\"fill:#1f77b4;stroke:#1f77b4;\" x=\"64.685272\" xlink:href=\"#mf22229d31f\" y=\"420.559801\"/>\n     <use style=\"fill:#1f77b4;stroke:#1f77b4;\" x=\"64.493609\" xlink:href=\"#mf22229d31f\" y=\"420.823636\"/>\n     <use style=\"fill:#1f77b4;stroke:#1f77b4;\" x=\"67.98188\" xlink:href=\"#mf22229d31f\" y=\"420.823636\"/>\n     <use style=\"fill:#1f77b4;stroke:#1f77b4;\" x=\"64.904535\" xlink:href=\"#mf22229d31f\" y=\"419.389029\"/>\n     <use style=\"fill:#1f77b4;stroke:#1f77b4;\" x=\"67.298025\" xlink:href=\"#mf22229d31f\" y=\"420.213516\"/>\n     <use style=\"fill:#1f77b4;stroke:#1f77b4;\" x=\"65.901184\" xlink:href=\"#mf22229d31f\" y=\"418.328189\"/>\n     <use style=\"fill:#1f77b4;stroke:#1f77b4;\" x=\"64.542675\" xlink:href=\"#mf22229d31f\" y=\"420.823636\"/>\n     <use style=\"fill:#1f77b4;stroke:#1f77b4;\" x=\"337.477224\" xlink:href=\"#mf22229d31f\" y=\"125.959593\"/>\n     <use style=\"fill:#1f77b4;stroke:#1f77b4;\" x=\"64.551875\" xlink:href=\"#mf22229d31f\" y=\"420.823636\"/>\n     <use style=\"fill:#1f77b4;stroke:#1f77b4;\" x=\"67.77335\" xlink:href=\"#mf22229d31f\" y=\"420.389407\"/>\n     <use style=\"fill:#1f77b4;stroke:#1f77b4;\" x=\"82.674015\" xlink:href=\"#mf22229d31f\" y=\"412.204999\"/>\n     <use style=\"fill:#1f77b4;stroke:#1f77b4;\" x=\"64.259013\" xlink:href=\"#mf22229d31f\" y=\"415.068717\"/>\n     <use style=\"fill:#1f77b4;stroke:#1f77b4;\" x=\"65.816852\" xlink:href=\"#mf22229d31f\" y=\"420.823636\"/>\n     <use style=\"fill:#1f77b4;stroke:#1f77b4;\" x=\"69.512119\" xlink:href=\"#mf22229d31f\" y=\"409.605116\"/>\n     <use style=\"fill:#1f77b4;stroke:#1f77b4;\" x=\"65.839852\" xlink:href=\"#mf22229d31f\" y=\"413.282328\"/>\n     <use style=\"fill:#1f77b4;stroke:#1f77b4;\" x=\"69.401721\" xlink:href=\"#mf22229d31f\" y=\"420.180536\"/>\n     <use style=\"fill:#1f77b4;stroke:#1f77b4;\" x=\"74.265366\" xlink:href=\"#mf22229d31f\" y=\"420.345434\"/>\n     <use style=\"fill:#1f77b4;stroke:#1f77b4;\" x=\"70.855295\" xlink:href=\"#mf22229d31f\" y=\"409.770014\"/>\n     <use style=\"fill:#1f77b4;stroke:#1f77b4;\" x=\"68.317674\" xlink:href=\"#mf22229d31f\" y=\"418.899833\"/>\n     <use style=\"fill:#1f77b4;stroke:#1f77b4;\" x=\"68.978528\" xlink:href=\"#mf22229d31f\" y=\"419.487967\"/>\n     <use style=\"fill:#1f77b4;stroke:#1f77b4;\" x=\"65.258729\" xlink:href=\"#mf22229d31f\" y=\"406.059822\"/>\n    </g>\n   </g>\n   <g id=\"matplotlib.axis_1\">\n    <g id=\"xtick_1\">\n     <g id=\"line2d_1\">\n      <defs>\n       <path d=\"M 0 0 \nL 0 3.5 \n\" id=\"mc361a8a4e0\" style=\"stroke:#000000;stroke-width:0.8;\"/>\n      </defs>\n      <g>\n       <use style=\"stroke:#000000;stroke-width:0.8;\" x=\"64.259013\" xlink:href=\"#mc361a8a4e0\" y=\"438.12\"/>\n      </g>\n     </g>\n     <g id=\"text_1\">\n      <!-- 0 -->\n      <g transform=\"translate(61.077763 452.718437)scale(0.1 -0.1)\">\n       <defs>\n        <path d=\"M 31.78125 66.40625 \nQ 24.171875 66.40625 20.328125 58.90625 \nQ 16.5 51.421875 16.5 36.375 \nQ 16.5 21.390625 20.328125 13.890625 \nQ 24.171875 6.390625 31.78125 6.390625 \nQ 39.453125 6.390625 43.28125 13.890625 \nQ 47.125 21.390625 47.125 36.375 \nQ 47.125 51.421875 43.28125 58.90625 \nQ 39.453125 66.40625 31.78125 66.40625 \nz\nM 31.78125 74.21875 \nQ 44.046875 74.21875 50.515625 64.515625 \nQ 56.984375 54.828125 56.984375 36.375 \nQ 56.984375 17.96875 50.515625 8.265625 \nQ 44.046875 -1.421875 31.78125 -1.421875 \nQ 19.53125 -1.421875 13.0625 8.265625 \nQ 6.59375 17.96875 6.59375 36.375 \nQ 6.59375 54.828125 13.0625 64.515625 \nQ 19.53125 74.21875 31.78125 74.21875 \nz\n\" id=\"DejaVuSans-48\"/>\n       </defs>\n       <use xlink:href=\"#DejaVuSans-48\"/>\n      </g>\n     </g>\n    </g>\n    <g id=\"xtick_2\">\n     <g id=\"line2d_2\">\n      <g>\n       <use style=\"stroke:#000000;stroke-width:0.8;\" x=\"140.924299\" xlink:href=\"#mc361a8a4e0\" y=\"438.12\"/>\n      </g>\n     </g>\n     <g id=\"text_2\">\n      <!-- 500 -->\n      <g transform=\"translate(131.380549 452.718437)scale(0.1 -0.1)\">\n       <defs>\n        <path d=\"M 10.796875 72.90625 \nL 49.515625 72.90625 \nL 49.515625 64.59375 \nL 19.828125 64.59375 \nL 19.828125 46.734375 \nQ 21.96875 47.46875 24.109375 47.828125 \nQ 26.265625 48.1875 28.421875 48.1875 \nQ 40.625 48.1875 47.75 41.5 \nQ 54.890625 34.8125 54.890625 23.390625 \nQ 54.890625 11.625 47.5625 5.09375 \nQ 40.234375 -1.421875 26.90625 -1.421875 \nQ 22.3125 -1.421875 17.546875 -0.640625 \nQ 12.796875 0.140625 7.71875 1.703125 \nL 7.71875 11.625 \nQ 12.109375 9.234375 16.796875 8.0625 \nQ 21.484375 6.890625 26.703125 6.890625 \nQ 35.15625 6.890625 40.078125 11.328125 \nQ 45.015625 15.765625 45.015625 23.390625 \nQ 45.015625 31 40.078125 35.4375 \nQ 35.15625 39.890625 26.703125 39.890625 \nQ 22.75 39.890625 18.8125 39.015625 \nQ 14.890625 38.140625 10.796875 36.28125 \nz\n\" id=\"DejaVuSans-53\"/>\n       </defs>\n       <use xlink:href=\"#DejaVuSans-53\"/>\n       <use x=\"63.623047\" xlink:href=\"#DejaVuSans-48\"/>\n       <use x=\"127.246094\" xlink:href=\"#DejaVuSans-48\"/>\n      </g>\n     </g>\n    </g>\n    <g id=\"xtick_3\">\n     <g id=\"line2d_3\">\n      <g>\n       <use style=\"stroke:#000000;stroke-width:0.8;\" x=\"217.589584\" xlink:href=\"#mc361a8a4e0\" y=\"438.12\"/>\n      </g>\n     </g>\n     <g id=\"text_3\">\n      <!-- 1000 -->\n      <g transform=\"translate(204.864584 452.718437)scale(0.1 -0.1)\">\n       <defs>\n        <path d=\"M 12.40625 8.296875 \nL 28.515625 8.296875 \nL 28.515625 63.921875 \nL 10.984375 60.40625 \nL 10.984375 69.390625 \nL 28.421875 72.90625 \nL 38.28125 72.90625 \nL 38.28125 8.296875 \nL 54.390625 8.296875 \nL 54.390625 0 \nL 12.40625 0 \nz\n\" id=\"DejaVuSans-49\"/>\n       </defs>\n       <use xlink:href=\"#DejaVuSans-49\"/>\n       <use x=\"63.623047\" xlink:href=\"#DejaVuSans-48\"/>\n       <use x=\"127.246094\" xlink:href=\"#DejaVuSans-48\"/>\n       <use x=\"190.869141\" xlink:href=\"#DejaVuSans-48\"/>\n      </g>\n     </g>\n    </g>\n    <g id=\"xtick_4\">\n     <g id=\"line2d_4\">\n      <g>\n       <use style=\"stroke:#000000;stroke-width:0.8;\" x=\"294.25487\" xlink:href=\"#mc361a8a4e0\" y=\"438.12\"/>\n      </g>\n     </g>\n     <g id=\"text_4\">\n      <!-- 1500 -->\n      <g transform=\"translate(281.52987 452.718437)scale(0.1 -0.1)\">\n       <use xlink:href=\"#DejaVuSans-49\"/>\n       <use x=\"63.623047\" xlink:href=\"#DejaVuSans-53\"/>\n       <use x=\"127.246094\" xlink:href=\"#DejaVuSans-48\"/>\n       <use x=\"190.869141\" xlink:href=\"#DejaVuSans-48\"/>\n      </g>\n     </g>\n    </g>\n    <g id=\"xtick_5\">\n     <g id=\"line2d_5\">\n      <g>\n       <use style=\"stroke:#000000;stroke-width:0.8;\" x=\"370.920155\" xlink:href=\"#mc361a8a4e0\" y=\"438.12\"/>\n      </g>\n     </g>\n     <g id=\"text_5\">\n      <!-- 2000 -->\n      <g transform=\"translate(358.195155 452.718437)scale(0.1 -0.1)\">\n       <defs>\n        <path d=\"M 19.1875 8.296875 \nL 53.609375 8.296875 \nL 53.609375 0 \nL 7.328125 0 \nL 7.328125 8.296875 \nQ 12.9375 14.109375 22.625 23.890625 \nQ 32.328125 33.6875 34.8125 36.53125 \nQ 39.546875 41.84375 41.421875 45.53125 \nQ 43.3125 49.21875 43.3125 52.78125 \nQ 43.3125 58.59375 39.234375 62.25 \nQ 35.15625 65.921875 28.609375 65.921875 \nQ 23.96875 65.921875 18.8125 64.3125 \nQ 13.671875 62.703125 7.8125 59.421875 \nL 7.8125 69.390625 \nQ 13.765625 71.78125 18.9375 73 \nQ 24.125 74.21875 28.421875 74.21875 \nQ 39.75 74.21875 46.484375 68.546875 \nQ 53.21875 62.890625 53.21875 53.421875 \nQ 53.21875 48.921875 51.53125 44.890625 \nQ 49.859375 40.875 45.40625 35.40625 \nQ 44.1875 33.984375 37.640625 27.21875 \nQ 31.109375 20.453125 19.1875 8.296875 \nz\n\" id=\"DejaVuSans-50\"/>\n       </defs>\n       <use xlink:href=\"#DejaVuSans-50\"/>\n       <use x=\"63.623047\" xlink:href=\"#DejaVuSans-48\"/>\n       <use x=\"127.246094\" xlink:href=\"#DejaVuSans-48\"/>\n       <use x=\"190.869141\" xlink:href=\"#DejaVuSans-48\"/>\n      </g>\n     </g>\n    </g>\n    <g id=\"text_6\">\n     <!-- Healthy -->\n     <g transform=\"translate(217.814773 466.396562)scale(0.1 -0.1)\">\n      <defs>\n       <path d=\"M 9.8125 72.90625 \nL 19.671875 72.90625 \nL 19.671875 43.015625 \nL 55.515625 43.015625 \nL 55.515625 72.90625 \nL 65.375 72.90625 \nL 65.375 0 \nL 55.515625 0 \nL 55.515625 34.71875 \nL 19.671875 34.71875 \nL 19.671875 0 \nL 9.8125 0 \nz\n\" id=\"DejaVuSans-72\"/>\n       <path d=\"M 56.203125 29.59375 \nL 56.203125 25.203125 \nL 14.890625 25.203125 \nQ 15.484375 15.921875 20.484375 11.0625 \nQ 25.484375 6.203125 34.421875 6.203125 \nQ 39.59375 6.203125 44.453125 7.46875 \nQ 49.3125 8.734375 54.109375 11.28125 \nL 54.109375 2.78125 \nQ 49.265625 0.734375 44.1875 -0.34375 \nQ 39.109375 -1.421875 33.890625 -1.421875 \nQ 20.796875 -1.421875 13.15625 6.1875 \nQ 5.515625 13.8125 5.515625 26.8125 \nQ 5.515625 40.234375 12.765625 48.109375 \nQ 20.015625 56 32.328125 56 \nQ 43.359375 56 49.78125 48.890625 \nQ 56.203125 41.796875 56.203125 29.59375 \nz\nM 47.21875 32.234375 \nQ 47.125 39.59375 43.09375 43.984375 \nQ 39.0625 48.390625 32.421875 48.390625 \nQ 24.90625 48.390625 20.390625 44.140625 \nQ 15.875 39.890625 15.1875 32.171875 \nz\n\" id=\"DejaVuSans-101\"/>\n       <path d=\"M 34.28125 27.484375 \nQ 23.390625 27.484375 19.1875 25 \nQ 14.984375 22.515625 14.984375 16.5 \nQ 14.984375 11.71875 18.140625 8.90625 \nQ 21.296875 6.109375 26.703125 6.109375 \nQ 34.1875 6.109375 38.703125 11.40625 \nQ 43.21875 16.703125 43.21875 25.484375 \nL 43.21875 27.484375 \nz\nM 52.203125 31.203125 \nL 52.203125 0 \nL 43.21875 0 \nL 43.21875 8.296875 \nQ 40.140625 3.328125 35.546875 0.953125 \nQ 30.953125 -1.421875 24.3125 -1.421875 \nQ 15.921875 -1.421875 10.953125 3.296875 \nQ 6 8.015625 6 15.921875 \nQ 6 25.140625 12.171875 29.828125 \nQ 18.359375 34.515625 30.609375 34.515625 \nL 43.21875 34.515625 \nL 43.21875 35.40625 \nQ 43.21875 41.609375 39.140625 45 \nQ 35.0625 48.390625 27.6875 48.390625 \nQ 23 48.390625 18.546875 47.265625 \nQ 14.109375 46.140625 10.015625 43.890625 \nL 10.015625 52.203125 \nQ 14.9375 54.109375 19.578125 55.046875 \nQ 24.21875 56 28.609375 56 \nQ 40.484375 56 46.34375 49.84375 \nQ 52.203125 43.703125 52.203125 31.203125 \nz\n\" id=\"DejaVuSans-97\"/>\n       <path d=\"M 9.421875 75.984375 \nL 18.40625 75.984375 \nL 18.40625 0 \nL 9.421875 0 \nz\n\" id=\"DejaVuSans-108\"/>\n       <path d=\"M 18.3125 70.21875 \nL 18.3125 54.6875 \nL 36.8125 54.6875 \nL 36.8125 47.703125 \nL 18.3125 47.703125 \nL 18.3125 18.015625 \nQ 18.3125 11.328125 20.140625 9.421875 \nQ 21.96875 7.515625 27.59375 7.515625 \nL 36.8125 7.515625 \nL 36.8125 0 \nL 27.59375 0 \nQ 17.1875 0 13.234375 3.875 \nQ 9.28125 7.765625 9.28125 18.015625 \nL 9.28125 47.703125 \nL 2.6875 47.703125 \nL 2.6875 54.6875 \nL 9.28125 54.6875 \nL 9.28125 70.21875 \nz\n\" id=\"DejaVuSans-116\"/>\n       <path d=\"M 54.890625 33.015625 \nL 54.890625 0 \nL 45.90625 0 \nL 45.90625 32.71875 \nQ 45.90625 40.484375 42.875 44.328125 \nQ 39.84375 48.1875 33.796875 48.1875 \nQ 26.515625 48.1875 22.3125 43.546875 \nQ 18.109375 38.921875 18.109375 30.90625 \nL 18.109375 0 \nL 9.078125 0 \nL 9.078125 75.984375 \nL 18.109375 75.984375 \nL 18.109375 46.1875 \nQ 21.34375 51.125 25.703125 53.5625 \nQ 30.078125 56 35.796875 56 \nQ 45.21875 56 50.046875 50.171875 \nQ 54.890625 44.34375 54.890625 33.015625 \nz\n\" id=\"DejaVuSans-104\"/>\n       <path d=\"M 32.171875 -5.078125 \nQ 28.375 -14.84375 24.75 -17.8125 \nQ 21.140625 -20.796875 15.09375 -20.796875 \nL 7.90625 -20.796875 \nL 7.90625 -13.28125 \nL 13.1875 -13.28125 \nQ 16.890625 -13.28125 18.9375 -11.515625 \nQ 21 -9.765625 23.484375 -3.21875 \nL 25.09375 0.875 \nL 2.984375 54.6875 \nL 12.5 54.6875 \nL 29.59375 11.921875 \nL 46.6875 54.6875 \nL 56.203125 54.6875 \nz\n\" id=\"DejaVuSans-121\"/>\n      </defs>\n      <use xlink:href=\"#DejaVuSans-72\"/>\n      <use x=\"75.195312\" xlink:href=\"#DejaVuSans-101\"/>\n      <use x=\"136.71875\" xlink:href=\"#DejaVuSans-97\"/>\n      <use x=\"197.998047\" xlink:href=\"#DejaVuSans-108\"/>\n      <use x=\"225.78125\" xlink:href=\"#DejaVuSans-116\"/>\n      <use x=\"264.990234\" xlink:href=\"#DejaVuSans-104\"/>\n      <use x=\"328.369141\" xlink:href=\"#DejaVuSans-121\"/>\n     </g>\n    </g>\n   </g>\n   <g id=\"matplotlib.axis_2\">\n    <g id=\"ytick_1\">\n     <g id=\"line2d_6\">\n      <defs>\n       <path d=\"M 0 0 \nL -3.5 0 \n\" id=\"mc418c017d9\" style=\"stroke:#000000;stroke-width:0.8;\"/>\n      </defs>\n      <g>\n       <use style=\"stroke:#000000;stroke-width:0.8;\" x=\"46.965625\" xlink:href=\"#mc418c017d9\" y=\"420.823636\"/>\n      </g>\n     </g>\n     <g id=\"text_7\">\n      <!-- 0 -->\n      <g transform=\"translate(33.603125 424.622855)scale(0.1 -0.1)\">\n       <use xlink:href=\"#DejaVuSans-48\"/>\n      </g>\n     </g>\n    </g>\n    <g id=\"ytick_2\">\n     <g id=\"line2d_7\">\n      <g>\n       <use style=\"stroke:#000000;stroke-width:0.8;\" x=\"46.965625\" xlink:href=\"#mc418c017d9\" y=\"365.857835\"/>\n      </g>\n     </g>\n     <g id=\"text_8\">\n      <!-- 100 -->\n      <g transform=\"translate(20.878125 369.657053)scale(0.1 -0.1)\">\n       <use xlink:href=\"#DejaVuSans-49\"/>\n       <use x=\"63.623047\" xlink:href=\"#DejaVuSans-48\"/>\n       <use x=\"127.246094\" xlink:href=\"#DejaVuSans-48\"/>\n      </g>\n     </g>\n    </g>\n    <g id=\"ytick_3\">\n     <g id=\"line2d_8\">\n      <g>\n       <use style=\"stroke:#000000;stroke-width:0.8;\" x=\"46.965625\" xlink:href=\"#mc418c017d9\" y=\"310.892033\"/>\n      </g>\n     </g>\n     <g id=\"text_9\">\n      <!-- 200 -->\n      <g transform=\"translate(20.878125 314.691252)scale(0.1 -0.1)\">\n       <use xlink:href=\"#DejaVuSans-50\"/>\n       <use x=\"63.623047\" xlink:href=\"#DejaVuSans-48\"/>\n       <use x=\"127.246094\" xlink:href=\"#DejaVuSans-48\"/>\n      </g>\n     </g>\n    </g>\n    <g id=\"ytick_4\">\n     <g id=\"line2d_9\">\n      <g>\n       <use style=\"stroke:#000000;stroke-width:0.8;\" x=\"46.965625\" xlink:href=\"#mc418c017d9\" y=\"255.926231\"/>\n      </g>\n     </g>\n     <g id=\"text_10\">\n      <!-- 300 -->\n      <g transform=\"translate(20.878125 259.72545)scale(0.1 -0.1)\">\n       <defs>\n        <path d=\"M 40.578125 39.3125 \nQ 47.65625 37.796875 51.625 33 \nQ 55.609375 28.21875 55.609375 21.1875 \nQ 55.609375 10.40625 48.1875 4.484375 \nQ 40.765625 -1.421875 27.09375 -1.421875 \nQ 22.515625 -1.421875 17.65625 -0.515625 \nQ 12.796875 0.390625 7.625 2.203125 \nL 7.625 11.71875 \nQ 11.71875 9.328125 16.59375 8.109375 \nQ 21.484375 6.890625 26.8125 6.890625 \nQ 36.078125 6.890625 40.9375 10.546875 \nQ 45.796875 14.203125 45.796875 21.1875 \nQ 45.796875 27.640625 41.28125 31.265625 \nQ 36.765625 34.90625 28.71875 34.90625 \nL 20.21875 34.90625 \nL 20.21875 43.015625 \nL 29.109375 43.015625 \nQ 36.375 43.015625 40.234375 45.921875 \nQ 44.09375 48.828125 44.09375 54.296875 \nQ 44.09375 59.90625 40.109375 62.90625 \nQ 36.140625 65.921875 28.71875 65.921875 \nQ 24.65625 65.921875 20.015625 65.03125 \nQ 15.375 64.15625 9.8125 62.3125 \nL 9.8125 71.09375 \nQ 15.4375 72.65625 20.34375 73.4375 \nQ 25.25 74.21875 29.59375 74.21875 \nQ 40.828125 74.21875 47.359375 69.109375 \nQ 53.90625 64.015625 53.90625 55.328125 \nQ 53.90625 49.265625 50.4375 45.09375 \nQ 46.96875 40.921875 40.578125 39.3125 \nz\n\" id=\"DejaVuSans-51\"/>\n       </defs>\n       <use xlink:href=\"#DejaVuSans-51\"/>\n       <use x=\"63.623047\" xlink:href=\"#DejaVuSans-48\"/>\n       <use x=\"127.246094\" xlink:href=\"#DejaVuSans-48\"/>\n      </g>\n     </g>\n    </g>\n    <g id=\"ytick_5\">\n     <g id=\"line2d_10\">\n      <g>\n       <use style=\"stroke:#000000;stroke-width:0.8;\" x=\"46.965625\" xlink:href=\"#mc418c017d9\" y=\"200.96043\"/>\n      </g>\n     </g>\n     <g id=\"text_11\">\n      <!-- 400 -->\n      <g transform=\"translate(20.878125 204.759648)scale(0.1 -0.1)\">\n       <defs>\n        <path d=\"M 37.796875 64.3125 \nL 12.890625 25.390625 \nL 37.796875 25.390625 \nz\nM 35.203125 72.90625 \nL 47.609375 72.90625 \nL 47.609375 25.390625 \nL 58.015625 25.390625 \nL 58.015625 17.1875 \nL 47.609375 17.1875 \nL 47.609375 0 \nL 37.796875 0 \nL 37.796875 17.1875 \nL 4.890625 17.1875 \nL 4.890625 26.703125 \nz\n\" id=\"DejaVuSans-52\"/>\n       </defs>\n       <use xlink:href=\"#DejaVuSans-52\"/>\n       <use x=\"63.623047\" xlink:href=\"#DejaVuSans-48\"/>\n       <use x=\"127.246094\" xlink:href=\"#DejaVuSans-48\"/>\n      </g>\n     </g>\n    </g>\n    <g id=\"ytick_6\">\n     <g id=\"line2d_11\">\n      <g>\n       <use style=\"stroke:#000000;stroke-width:0.8;\" x=\"46.965625\" xlink:href=\"#mc418c017d9\" y=\"145.994628\"/>\n      </g>\n     </g>\n     <g id=\"text_12\">\n      <!-- 500 -->\n      <g transform=\"translate(20.878125 149.793847)scale(0.1 -0.1)\">\n       <use xlink:href=\"#DejaVuSans-53\"/>\n       <use x=\"63.623047\" xlink:href=\"#DejaVuSans-48\"/>\n       <use x=\"127.246094\" xlink:href=\"#DejaVuSans-48\"/>\n      </g>\n     </g>\n    </g>\n    <g id=\"ytick_7\">\n     <g id=\"line2d_12\">\n      <g>\n       <use style=\"stroke:#000000;stroke-width:0.8;\" x=\"46.965625\" xlink:href=\"#mc418c017d9\" y=\"91.028826\"/>\n      </g>\n     </g>\n     <g id=\"text_13\">\n      <!-- 600 -->\n      <g transform=\"translate(20.878125 94.828045)scale(0.1 -0.1)\">\n       <defs>\n        <path d=\"M 33.015625 40.375 \nQ 26.375 40.375 22.484375 35.828125 \nQ 18.609375 31.296875 18.609375 23.390625 \nQ 18.609375 15.53125 22.484375 10.953125 \nQ 26.375 6.390625 33.015625 6.390625 \nQ 39.65625 6.390625 43.53125 10.953125 \nQ 47.40625 15.53125 47.40625 23.390625 \nQ 47.40625 31.296875 43.53125 35.828125 \nQ 39.65625 40.375 33.015625 40.375 \nz\nM 52.59375 71.296875 \nL 52.59375 62.3125 \nQ 48.875 64.0625 45.09375 64.984375 \nQ 41.3125 65.921875 37.59375 65.921875 \nQ 27.828125 65.921875 22.671875 59.328125 \nQ 17.53125 52.734375 16.796875 39.40625 \nQ 19.671875 43.65625 24.015625 45.921875 \nQ 28.375 48.1875 33.59375 48.1875 \nQ 44.578125 48.1875 50.953125 41.515625 \nQ 57.328125 34.859375 57.328125 23.390625 \nQ 57.328125 12.15625 50.6875 5.359375 \nQ 44.046875 -1.421875 33.015625 -1.421875 \nQ 20.359375 -1.421875 13.671875 8.265625 \nQ 6.984375 17.96875 6.984375 36.375 \nQ 6.984375 53.65625 15.1875 63.9375 \nQ 23.390625 74.21875 37.203125 74.21875 \nQ 40.921875 74.21875 44.703125 73.484375 \nQ 48.484375 72.75 52.59375 71.296875 \nz\n\" id=\"DejaVuSans-54\"/>\n       </defs>\n       <use xlink:href=\"#DejaVuSans-54\"/>\n       <use x=\"63.623047\" xlink:href=\"#DejaVuSans-48\"/>\n       <use x=\"127.246094\" xlink:href=\"#DejaVuSans-48\"/>\n      </g>\n     </g>\n    </g>\n    <g id=\"text_14\">\n     <!-- Cancer -->\n     <g transform=\"translate(14.798438 265.465469)rotate(-90)scale(0.1 -0.1)\">\n      <defs>\n       <path d=\"M 64.40625 67.28125 \nL 64.40625 56.890625 \nQ 59.421875 61.53125 53.78125 63.8125 \nQ 48.140625 66.109375 41.796875 66.109375 \nQ 29.296875 66.109375 22.65625 58.46875 \nQ 16.015625 50.828125 16.015625 36.375 \nQ 16.015625 21.96875 22.65625 14.328125 \nQ 29.296875 6.6875 41.796875 6.6875 \nQ 48.140625 6.6875 53.78125 8.984375 \nQ 59.421875 11.28125 64.40625 15.921875 \nL 64.40625 5.609375 \nQ 59.234375 2.09375 53.4375 0.328125 \nQ 47.65625 -1.421875 41.21875 -1.421875 \nQ 24.65625 -1.421875 15.125 8.703125 \nQ 5.609375 18.84375 5.609375 36.375 \nQ 5.609375 53.953125 15.125 64.078125 \nQ 24.65625 74.21875 41.21875 74.21875 \nQ 47.75 74.21875 53.53125 72.484375 \nQ 59.328125 70.75 64.40625 67.28125 \nz\n\" id=\"DejaVuSans-67\"/>\n       <path d=\"M 54.890625 33.015625 \nL 54.890625 0 \nL 45.90625 0 \nL 45.90625 32.71875 \nQ 45.90625 40.484375 42.875 44.328125 \nQ 39.84375 48.1875 33.796875 48.1875 \nQ 26.515625 48.1875 22.3125 43.546875 \nQ 18.109375 38.921875 18.109375 30.90625 \nL 18.109375 0 \nL 9.078125 0 \nL 9.078125 54.6875 \nL 18.109375 54.6875 \nL 18.109375 46.1875 \nQ 21.34375 51.125 25.703125 53.5625 \nQ 30.078125 56 35.796875 56 \nQ 45.21875 56 50.046875 50.171875 \nQ 54.890625 44.34375 54.890625 33.015625 \nz\n\" id=\"DejaVuSans-110\"/>\n       <path d=\"M 48.78125 52.59375 \nL 48.78125 44.1875 \nQ 44.96875 46.296875 41.140625 47.34375 \nQ 37.3125 48.390625 33.40625 48.390625 \nQ 24.65625 48.390625 19.8125 42.84375 \nQ 14.984375 37.3125 14.984375 27.296875 \nQ 14.984375 17.28125 19.8125 11.734375 \nQ 24.65625 6.203125 33.40625 6.203125 \nQ 37.3125 6.203125 41.140625 7.25 \nQ 44.96875 8.296875 48.78125 10.40625 \nL 48.78125 2.09375 \nQ 45.015625 0.34375 40.984375 -0.53125 \nQ 36.96875 -1.421875 32.421875 -1.421875 \nQ 20.0625 -1.421875 12.78125 6.34375 \nQ 5.515625 14.109375 5.515625 27.296875 \nQ 5.515625 40.671875 12.859375 48.328125 \nQ 20.21875 56 33.015625 56 \nQ 37.15625 56 41.109375 55.140625 \nQ 45.0625 54.296875 48.78125 52.59375 \nz\n\" id=\"DejaVuSans-99\"/>\n       <path d=\"M 41.109375 46.296875 \nQ 39.59375 47.171875 37.8125 47.578125 \nQ 36.03125 48 33.890625 48 \nQ 26.265625 48 22.1875 43.046875 \nQ 18.109375 38.09375 18.109375 28.8125 \nL 18.109375 0 \nL 9.078125 0 \nL 9.078125 54.6875 \nL 18.109375 54.6875 \nL 18.109375 46.1875 \nQ 20.953125 51.171875 25.484375 53.578125 \nQ 30.03125 56 36.53125 56 \nQ 37.453125 56 38.578125 55.875 \nQ 39.703125 55.765625 41.0625 55.515625 \nz\n\" id=\"DejaVuSans-114\"/>\n      </defs>\n      <use xlink:href=\"#DejaVuSans-67\"/>\n      <use x=\"69.824219\" xlink:href=\"#DejaVuSans-97\"/>\n      <use x=\"131.103516\" xlink:href=\"#DejaVuSans-110\"/>\n      <use x=\"194.482422\" xlink:href=\"#DejaVuSans-99\"/>\n      <use x=\"249.462891\" xlink:href=\"#DejaVuSans-101\"/>\n      <use x=\"310.986328\" xlink:href=\"#DejaVuSans-114\"/>\n     </g>\n    </g>\n   </g>\n   <g id=\"patch_3\">\n    <path d=\"M 46.965625 438.12 \nL 46.965625 57.6 \n\" style=\"fill:none;stroke:#000000;stroke-linecap:square;stroke-linejoin:miter;stroke-width:0.8;\"/>\n   </g>\n   <g id=\"patch_4\">\n    <path d=\"M 427.42017 438.12 \nL 427.42017 57.6 \n\" style=\"fill:none;stroke:#000000;stroke-linecap:square;stroke-linejoin:miter;stroke-width:0.8;\"/>\n   </g>\n   <g id=\"patch_5\">\n    <path d=\"M 46.965625 438.12 \nL 427.42017 438.12 \n\" style=\"fill:none;stroke:#000000;stroke-linecap:square;stroke-linejoin:miter;stroke-width:0.8;\"/>\n   </g>\n   <g id=\"patch_6\">\n    <path d=\"M 46.965625 57.6 \nL 427.42017 57.6 \n\" style=\"fill:none;stroke:#000000;stroke-linecap:square;stroke-linejoin:miter;stroke-width:0.8;\"/>\n   </g>\n   <g id=\"text_15\">\n    <!-- AREGB (+ve CC) -->\n    <g transform=\"translate(187.216648 51.6)scale(0.12 -0.12)\">\n     <defs>\n      <path d=\"M 34.1875 63.1875 \nL 20.796875 26.90625 \nL 47.609375 26.90625 \nz\nM 28.609375 72.90625 \nL 39.796875 72.90625 \nL 67.578125 0 \nL 57.328125 0 \nL 50.6875 18.703125 \nL 17.828125 18.703125 \nL 11.1875 0 \nL 0.78125 0 \nz\n\" id=\"DejaVuSans-65\"/>\n      <path d=\"M 44.390625 34.1875 \nQ 47.5625 33.109375 50.5625 29.59375 \nQ 53.5625 26.078125 56.59375 19.921875 \nL 66.609375 0 \nL 56 0 \nL 46.6875 18.703125 \nQ 43.0625 26.03125 39.671875 28.421875 \nQ 36.28125 30.8125 30.421875 30.8125 \nL 19.671875 30.8125 \nL 19.671875 0 \nL 9.8125 0 \nL 9.8125 72.90625 \nL 32.078125 72.90625 \nQ 44.578125 72.90625 50.734375 67.671875 \nQ 56.890625 62.453125 56.890625 51.90625 \nQ 56.890625 45.015625 53.6875 40.46875 \nQ 50.484375 35.9375 44.390625 34.1875 \nz\nM 19.671875 64.796875 \nL 19.671875 38.921875 \nL 32.078125 38.921875 \nQ 39.203125 38.921875 42.84375 42.21875 \nQ 46.484375 45.515625 46.484375 51.90625 \nQ 46.484375 58.296875 42.84375 61.546875 \nQ 39.203125 64.796875 32.078125 64.796875 \nz\n\" id=\"DejaVuSans-82\"/>\n      <path d=\"M 9.8125 72.90625 \nL 55.90625 72.90625 \nL 55.90625 64.59375 \nL 19.671875 64.59375 \nL 19.671875 43.015625 \nL 54.390625 43.015625 \nL 54.390625 34.71875 \nL 19.671875 34.71875 \nL 19.671875 8.296875 \nL 56.78125 8.296875 \nL 56.78125 0 \nL 9.8125 0 \nz\n\" id=\"DejaVuSans-69\"/>\n      <path d=\"M 59.515625 10.40625 \nL 59.515625 29.984375 \nL 43.40625 29.984375 \nL 43.40625 38.09375 \nL 69.28125 38.09375 \nL 69.28125 6.78125 \nQ 63.578125 2.734375 56.6875 0.65625 \nQ 49.8125 -1.421875 42 -1.421875 \nQ 24.90625 -1.421875 15.25 8.5625 \nQ 5.609375 18.5625 5.609375 36.375 \nQ 5.609375 54.25 15.25 64.234375 \nQ 24.90625 74.21875 42 74.21875 \nQ 49.125 74.21875 55.546875 72.453125 \nQ 61.96875 70.703125 67.390625 67.28125 \nL 67.390625 56.78125 \nQ 61.921875 61.421875 55.765625 63.765625 \nQ 49.609375 66.109375 42.828125 66.109375 \nQ 29.4375 66.109375 22.71875 58.640625 \nQ 16.015625 51.171875 16.015625 36.375 \nQ 16.015625 21.625 22.71875 14.15625 \nQ 29.4375 6.6875 42.828125 6.6875 \nQ 48.046875 6.6875 52.140625 7.59375 \nQ 56.25 8.5 59.515625 10.40625 \nz\n\" id=\"DejaVuSans-71\"/>\n      <path d=\"M 19.671875 34.8125 \nL 19.671875 8.109375 \nL 35.5 8.109375 \nQ 43.453125 8.109375 47.28125 11.40625 \nQ 51.125 14.703125 51.125 21.484375 \nQ 51.125 28.328125 47.28125 31.5625 \nQ 43.453125 34.8125 35.5 34.8125 \nz\nM 19.671875 64.796875 \nL 19.671875 42.828125 \nL 34.28125 42.828125 \nQ 41.5 42.828125 45.03125 45.53125 \nQ 48.578125 48.25 48.578125 53.8125 \nQ 48.578125 59.328125 45.03125 62.0625 \nQ 41.5 64.796875 34.28125 64.796875 \nz\nM 9.8125 72.90625 \nL 35.015625 72.90625 \nQ 46.296875 72.90625 52.390625 68.21875 \nQ 58.5 63.53125 58.5 54.890625 \nQ 58.5 48.1875 55.375 44.234375 \nQ 52.25 40.28125 46.1875 39.3125 \nQ 53.46875 37.75 57.5 32.78125 \nQ 61.53125 27.828125 61.53125 20.40625 \nQ 61.53125 10.640625 54.890625 5.3125 \nQ 48.25 0 35.984375 0 \nL 9.8125 0 \nz\n\" id=\"DejaVuSans-66\"/>\n      <path id=\"DejaVuSans-32\"/>\n      <path d=\"M 31 75.875 \nQ 24.46875 64.65625 21.28125 53.65625 \nQ 18.109375 42.671875 18.109375 31.390625 \nQ 18.109375 20.125 21.3125 9.0625 \nQ 24.515625 -2 31 -13.1875 \nL 23.1875 -13.1875 \nQ 15.875 -1.703125 12.234375 9.375 \nQ 8.59375 20.453125 8.59375 31.390625 \nQ 8.59375 42.28125 12.203125 53.3125 \nQ 15.828125 64.359375 23.1875 75.875 \nz\n\" id=\"DejaVuSans-40\"/>\n      <path d=\"M 46 62.703125 \nL 46 35.5 \nL 73.1875 35.5 \nL 73.1875 27.203125 \nL 46 27.203125 \nL 46 0 \nL 37.796875 0 \nL 37.796875 27.203125 \nL 10.59375 27.203125 \nL 10.59375 35.5 \nL 37.796875 35.5 \nL 37.796875 62.703125 \nz\n\" id=\"DejaVuSans-43\"/>\n      <path d=\"M 2.984375 54.6875 \nL 12.5 54.6875 \nL 29.59375 8.796875 \nL 46.6875 54.6875 \nL 56.203125 54.6875 \nL 35.6875 0 \nL 23.484375 0 \nz\n\" id=\"DejaVuSans-118\"/>\n      <path d=\"M 8.015625 75.875 \nL 15.828125 75.875 \nQ 23.140625 64.359375 26.78125 53.3125 \nQ 30.421875 42.28125 30.421875 31.390625 \nQ 30.421875 20.453125 26.78125 9.375 \nQ 23.140625 -1.703125 15.828125 -13.1875 \nL 8.015625 -13.1875 \nQ 14.5 -2 17.703125 9.0625 \nQ 20.90625 20.125 20.90625 31.390625 \nQ 20.90625 42.671875 17.703125 53.65625 \nQ 14.5 64.65625 8.015625 75.875 \nz\n\" id=\"DejaVuSans-41\"/>\n     </defs>\n     <use xlink:href=\"#DejaVuSans-65\"/>\n     <use x=\"68.408203\" xlink:href=\"#DejaVuSans-82\"/>\n     <use x=\"137.890625\" xlink:href=\"#DejaVuSans-69\"/>\n     <use x=\"201.074219\" xlink:href=\"#DejaVuSans-71\"/>\n     <use x=\"278.564453\" xlink:href=\"#DejaVuSans-66\"/>\n     <use x=\"347.167969\" xlink:href=\"#DejaVuSans-32\"/>\n     <use x=\"378.955078\" xlink:href=\"#DejaVuSans-40\"/>\n     <use x=\"417.96875\" xlink:href=\"#DejaVuSans-43\"/>\n     <use x=\"501.757812\" xlink:href=\"#DejaVuSans-118\"/>\n     <use x=\"560.9375\" xlink:href=\"#DejaVuSans-101\"/>\n     <use x=\"622.460938\" xlink:href=\"#DejaVuSans-32\"/>\n     <use x=\"654.248047\" xlink:href=\"#DejaVuSans-67\"/>\n     <use x=\"724.072266\" xlink:href=\"#DejaVuSans-67\"/>\n     <use x=\"793.896484\" xlink:href=\"#DejaVuSans-41\"/>\n    </g>\n   </g>\n  </g>\n  <g id=\"axes_2\">\n   <g id=\"patch_7\">\n    <path d=\"M 503.51108 438.12 \nL 883.965625 438.12 \nL 883.965625 57.6 \nL 503.51108 57.6 \nz\n\" style=\"fill:#ffffff;\"/>\n   </g>\n   <g id=\"PathCollection_2\">\n    <g clip-path=\"url(#p3ff5c63fb3)\">\n     <use style=\"fill:#1f77b4;stroke:#1f77b4;\" x=\"685.407419\" xlink:href=\"#mf22229d31f\" y=\"336.252775\"/>\n     <use style=\"fill:#1f77b4;stroke:#1f77b4;\" x=\"609.539097\" xlink:href=\"#mf22229d31f\" y=\"315.912804\"/>\n     <use style=\"fill:#1f77b4;stroke:#1f77b4;\" x=\"740.904088\" xlink:href=\"#mf22229d31f\" y=\"260.217996\"/>\n     <use style=\"fill:#1f77b4;stroke:#1f77b4;\" x=\"696.215116\" xlink:href=\"#mf22229d31f\" y=\"308.916854\"/>\n     <use style=\"fill:#1f77b4;stroke:#1f77b4;\" x=\"714.324443\" xlink:href=\"#mf22229d31f\" y=\"396.005348\"/>\n     <use style=\"fill:#1f77b4;stroke:#1f77b4;\" x=\"601.679928\" xlink:href=\"#mf22229d31f\" y=\"296.584432\"/>\n     <use style=\"fill:#1f77b4;stroke:#1f77b4;\" x=\"696.215116\" xlink:href=\"#mf22229d31f\" y=\"287.428888\"/>\n     <use style=\"fill:#1f77b4;stroke:#1f77b4;\" x=\"609.539097\" xlink:href=\"#mf22229d31f\" y=\"205.455223\"/>\n     <use style=\"fill:#1f77b4;stroke:#1f77b4;\" x=\"683.284478\" xlink:href=\"#mf22229d31f\" y=\"361.741675\"/>\n     <use style=\"fill:#1f77b4;stroke:#1f77b4;\" x=\"681.182981\" xlink:href=\"#mf22229d31f\" y=\"296.584432\"/>\n     <use style=\"fill:#1f77b4;stroke:#1f77b4;\" x=\"733.452352\" xlink:href=\"#mf22229d31f\" y=\"420.823636\"/>\n     <use style=\"fill:#1f77b4;stroke:#1f77b4;\" x=\"616.02586\" xlink:href=\"#mf22229d31f\" y=\"294.009968\"/>\n     <use style=\"fill:#1f77b4;stroke:#1f77b4;\" x=\"700.653992\" xlink:href=\"#mf22229d31f\" y=\"280.609115\"/>\n     <use style=\"fill:#1f77b4;stroke:#1f77b4;\" x=\"645.704141\" xlink:href=\"#mf22229d31f\" y=\"330.11498\"/>\n     <use style=\"fill:#1f77b4;stroke:#1f77b4;\" x=\"545.368392\" xlink:href=\"#mf22229d31f\" y=\"162.320163\"/>\n     <use style=\"fill:#1f77b4;stroke:#1f77b4;\" x=\"666.858493\" xlink:href=\"#mf22229d31f\" y=\"384.74704\"/>\n     <use style=\"fill:#1f77b4;stroke:#1f77b4;\" x=\"866.672237\" xlink:href=\"#mf22229d31f\" y=\"322.63028\"/>\n     <use style=\"fill:#1f77b4;stroke:#1f77b4;\" x=\"655.117988\" xlink:href=\"#mf22229d31f\" y=\"388.657043\"/>\n     <use style=\"fill:#1f77b4;stroke:#1f77b4;\" x=\"723.759735\" xlink:href=\"#mf22229d31f\" y=\"317.055116\"/>\n     <use style=\"fill:#1f77b4;stroke:#1f77b4;\" x=\"668.863493\" xlink:href=\"#mf22229d31f\" y=\"258.683547\"/>\n     <use style=\"fill:#1f77b4;stroke:#1f77b4;\" x=\"769.606674\" xlink:href=\"#mf22229d31f\" y=\"321.52775\"/>\n     <use style=\"fill:#1f77b4;stroke:#1f77b4;\" x=\"723.759735\" xlink:href=\"#mf22229d31f\" y=\"320.419537\"/>\n     <use style=\"fill:#1f77b4;stroke:#1f77b4;\" x=\"716.6511\" xlink:href=\"#mf22229d31f\" y=\"329.069282\"/>\n     <use style=\"fill:#1f77b4;stroke:#1f77b4;\" x=\"520.804468\" xlink:href=\"#mf22229d31f\" y=\"88.723452\"/>\n     <use style=\"fill:#1f77b4;stroke:#1f77b4;\" x=\"711.997786\" xlink:href=\"#mf22229d31f\" y=\"241.088534\"/>\n     <use style=\"fill:#1f77b4;stroke:#1f77b4;\" x=\"716.6511\" xlink:href=\"#mf22229d31f\" y=\"287.428888\"/>\n     <use style=\"fill:#1f77b4;stroke:#1f77b4;\" x=\"668.863493\" xlink:href=\"#mf22229d31f\" y=\"310.098948\"/>\n     <use style=\"fill:#1f77b4;stroke:#1f77b4;\" x=\"689.685466\" xlink:href=\"#mf22229d31f\" y=\"257.137732\"/>\n     <use style=\"fill:#1f77b4;stroke:#1f77b4;\" x=\"664.864216\" xlink:href=\"#mf22229d31f\" y=\"261.741078\"/>\n     <use style=\"fill:#1f77b4;stroke:#1f77b4;\" x=\"694.027844\" xlink:href=\"#mf22229d31f\" y=\"373.488733\"/>\n     <use style=\"fill:#1f77b4;stroke:#1f77b4;\" x=\"709.703295\" xlink:href=\"#mf22229d31f\" y=\"220.305278\"/>\n     <use style=\"fill:#1f77b4;stroke:#1f77b4;\" x=\"633.062994\" xlink:href=\"#mf22229d31f\" y=\"137.092688\"/>\n     <use style=\"fill:#1f77b4;stroke:#1f77b4;\" x=\"687.530359\" xlink:href=\"#mf22229d31f\" y=\"329.069282\"/>\n     <use style=\"fill:#1f77b4;stroke:#1f77b4;\" x=\"691.851294\" xlink:href=\"#mf22229d31f\" y=\"197.714782\"/>\n     <use style=\"fill:#1f77b4;stroke:#1f77b4;\" x=\"696.215116\" xlink:href=\"#mf22229d31f\" y=\"252.437772\"/>\n     <use style=\"fill:#1f77b4;stroke:#1f77b4;\" x=\"714.324443\" xlink:href=\"#mf22229d31f\" y=\"354.080797\"/>\n     <use style=\"fill:#1f77b4;stroke:#1f77b4;\" x=\"664.864216\" xlink:href=\"#mf22229d31f\" y=\"329.069282\"/>\n     <use style=\"fill:#1f77b4;stroke:#1f77b4;\" x=\"653.209486\" xlink:href=\"#mf22229d31f\" y=\"330.11498\"/>\n     <use style=\"fill:#1f77b4;stroke:#1f77b4;\" x=\"647.559033\" xlink:href=\"#mf22229d31f\" y=\"74.896364\"/>\n     <use style=\"fill:#1f77b4;stroke:#1f77b4;\" x=\"638.402511\" xlink:href=\"#mf22229d31f\" y=\"266.247811\"/>\n     <use style=\"fill:#1f77b4;stroke:#1f77b4;\" x=\"647.559033\" xlink:href=\"#mf22229d31f\" y=\"331.154995\"/>\n     <use style=\"fill:#1f77b4;stroke:#1f77b4;\" x=\"687.530359\" xlink:href=\"#mf22229d31f\" y=\"366.589396\"/>\n     <use style=\"fill:#1f77b4;stroke:#1f77b4;\" x=\"698.423832\" xlink:href=\"#mf22229d31f\" y=\"287.428888\"/>\n     <use style=\"fill:#1f77b4;stroke:#1f77b4;\" x=\"743.42374\" xlink:href=\"#mf22229d31f\" y=\"287.428888\"/>\n     <use style=\"fill:#1f77b4;stroke:#1f77b4;\" x=\"645.704141\" xlink:href=\"#mf22229d31f\" y=\"249.255212\"/>\n     <use style=\"fill:#1f77b4;stroke:#1f77b4;\" x=\"709.703295\" xlink:href=\"#mf22229d31f\" y=\"345.925486\"/>\n     <use style=\"fill:#1f77b4;stroke:#1f77b4;\" x=\"645.704141\" xlink:href=\"#mf22229d31f\" y=\"296.584432\"/>\n     <use style=\"fill:#1f77b4;stroke:#1f77b4;\" x=\"583.881537\" xlink:href=\"#mf22229d31f\" y=\"242.742329\"/>\n     <use style=\"fill:#1f77b4;stroke:#1f77b4;\" x=\"766.90475\" xlink:href=\"#mf22229d31f\" y=\"314.764809\"/>\n     <use style=\"fill:#1f77b4;stroke:#1f77b4;\" x=\"687.530359\" xlink:href=\"#mf22229d31f\" y=\"284.729395\"/>\n    </g>\n   </g>\n   <g id=\"matplotlib.axis_3\">\n    <g id=\"xtick_6\">\n     <g id=\"line2d_13\">\n      <g>\n       <use style=\"stroke:#000000;stroke-width:0.8;\" x=\"540.629302\" xlink:href=\"#mc361a8a4e0\" y=\"438.12\"/>\n      </g>\n     </g>\n     <g id=\"text_16\">\n      <!-- 150 -->\n      <g transform=\"translate(531.085552 452.718437)scale(0.1 -0.1)\">\n       <use xlink:href=\"#DejaVuSans-49\"/>\n       <use x=\"63.623047\" xlink:href=\"#DejaVuSans-53\"/>\n       <use x=\"127.246094\" xlink:href=\"#DejaVuSans-48\"/>\n      </g>\n     </g>\n    </g>\n    <g id=\"xtick_7\">\n     <g id=\"line2d_14\">\n      <g>\n       <use style=\"stroke:#000000;stroke-width:0.8;\" x=\"594.238914\" xlink:href=\"#mc361a8a4e0\" y=\"438.12\"/>\n      </g>\n     </g>\n     <g id=\"text_17\">\n      <!-- 200 -->\n      <g transform=\"translate(584.695164 452.718437)scale(0.1 -0.1)\">\n       <use xlink:href=\"#DejaVuSans-50\"/>\n       <use x=\"63.623047\" xlink:href=\"#DejaVuSans-48\"/>\n       <use x=\"127.246094\" xlink:href=\"#DejaVuSans-48\"/>\n      </g>\n     </g>\n    </g>\n    <g id=\"xtick_8\">\n     <g id=\"line2d_15\">\n      <g>\n       <use style=\"stroke:#000000;stroke-width:0.8;\" x=\"647.848525\" xlink:href=\"#mc361a8a4e0\" y=\"438.12\"/>\n      </g>\n     </g>\n     <g id=\"text_18\">\n      <!-- 250 -->\n      <g transform=\"translate(638.304775 452.718437)scale(0.1 -0.1)\">\n       <use xlink:href=\"#DejaVuSans-50\"/>\n       <use x=\"63.623047\" xlink:href=\"#DejaVuSans-53\"/>\n       <use x=\"127.246094\" xlink:href=\"#DejaVuSans-48\"/>\n      </g>\n     </g>\n    </g>\n    <g id=\"xtick_9\">\n     <g id=\"line2d_16\">\n      <g>\n       <use style=\"stroke:#000000;stroke-width:0.8;\" x=\"701.458136\" xlink:href=\"#mc361a8a4e0\" y=\"438.12\"/>\n      </g>\n     </g>\n     <g id=\"text_19\">\n      <!-- 300 -->\n      <g transform=\"translate(691.914386 452.718437)scale(0.1 -0.1)\">\n       <use xlink:href=\"#DejaVuSans-51\"/>\n       <use x=\"63.623047\" xlink:href=\"#DejaVuSans-48\"/>\n       <use x=\"127.246094\" xlink:href=\"#DejaVuSans-48\"/>\n      </g>\n     </g>\n    </g>\n    <g id=\"xtick_10\">\n     <g id=\"line2d_17\">\n      <g>\n       <use style=\"stroke:#000000;stroke-width:0.8;\" x=\"755.067748\" xlink:href=\"#mc361a8a4e0\" y=\"438.12\"/>\n      </g>\n     </g>\n     <g id=\"text_20\">\n      <!-- 350 -->\n      <g transform=\"translate(745.523998 452.718437)scale(0.1 -0.1)\">\n       <use xlink:href=\"#DejaVuSans-51\"/>\n       <use x=\"63.623047\" xlink:href=\"#DejaVuSans-53\"/>\n       <use x=\"127.246094\" xlink:href=\"#DejaVuSans-48\"/>\n      </g>\n     </g>\n    </g>\n    <g id=\"xtick_11\">\n     <g id=\"line2d_18\">\n      <g>\n       <use style=\"stroke:#000000;stroke-width:0.8;\" x=\"808.677359\" xlink:href=\"#mc361a8a4e0\" y=\"438.12\"/>\n      </g>\n     </g>\n     <g id=\"text_21\">\n      <!-- 400 -->\n      <g transform=\"translate(799.133609 452.718437)scale(0.1 -0.1)\">\n       <use xlink:href=\"#DejaVuSans-52\"/>\n       <use x=\"63.623047\" xlink:href=\"#DejaVuSans-48\"/>\n       <use x=\"127.246094\" xlink:href=\"#DejaVuSans-48\"/>\n      </g>\n     </g>\n    </g>\n    <g id=\"xtick_12\">\n     <g id=\"line2d_19\">\n      <g>\n       <use style=\"stroke:#000000;stroke-width:0.8;\" x=\"862.28697\" xlink:href=\"#mc361a8a4e0\" y=\"438.12\"/>\n      </g>\n     </g>\n     <g id=\"text_22\">\n      <!-- 450 -->\n      <g transform=\"translate(852.74322 452.718437)scale(0.1 -0.1)\">\n       <use xlink:href=\"#DejaVuSans-52\"/>\n       <use x=\"63.623047\" xlink:href=\"#DejaVuSans-53\"/>\n       <use x=\"127.246094\" xlink:href=\"#DejaVuSans-48\"/>\n      </g>\n     </g>\n    </g>\n    <g id=\"text_23\">\n     <!-- Healthy -->\n     <g transform=\"translate(674.360227 466.396562)scale(0.1 -0.1)\">\n      <use xlink:href=\"#DejaVuSans-72\"/>\n      <use x=\"75.195312\" xlink:href=\"#DejaVuSans-101\"/>\n      <use x=\"136.71875\" xlink:href=\"#DejaVuSans-97\"/>\n      <use x=\"197.998047\" xlink:href=\"#DejaVuSans-108\"/>\n      <use x=\"225.78125\" xlink:href=\"#DejaVuSans-116\"/>\n      <use x=\"264.990234\" xlink:href=\"#DejaVuSans-104\"/>\n      <use x=\"328.369141\" xlink:href=\"#DejaVuSans-121\"/>\n     </g>\n    </g>\n   </g>\n   <g id=\"matplotlib.axis_4\">\n    <g id=\"ytick_8\">\n     <g id=\"line2d_20\">\n      <g>\n       <use style=\"stroke:#000000;stroke-width:0.8;\" x=\"503.51108\" xlink:href=\"#mc418c017d9\" y=\"423.335586\"/>\n      </g>\n     </g>\n     <g id=\"text_24\">\n      <!-- 100 -->\n      <g transform=\"translate(477.42358 427.134805)scale(0.1 -0.1)\">\n       <use xlink:href=\"#DejaVuSans-49\"/>\n       <use x=\"63.623047\" xlink:href=\"#DejaVuSans-48\"/>\n       <use x=\"127.246094\" xlink:href=\"#DejaVuSans-48\"/>\n      </g>\n     </g>\n    </g>\n    <g id=\"ytick_9\">\n     <g id=\"line2d_21\">\n      <g>\n       <use style=\"stroke:#000000;stroke-width:0.8;\" x=\"503.51108\" xlink:href=\"#mc418c017d9\" y=\"366.504149\"/>\n      </g>\n     </g>\n     <g id=\"text_25\">\n      <!-- 200 -->\n      <g transform=\"translate(477.42358 370.303368)scale(0.1 -0.1)\">\n       <use xlink:href=\"#DejaVuSans-50\"/>\n       <use x=\"63.623047\" xlink:href=\"#DejaVuSans-48\"/>\n       <use x=\"127.246094\" xlink:href=\"#DejaVuSans-48\"/>\n      </g>\n     </g>\n    </g>\n    <g id=\"ytick_10\">\n     <g id=\"line2d_22\">\n      <g>\n       <use style=\"stroke:#000000;stroke-width:0.8;\" x=\"503.51108\" xlink:href=\"#mc418c017d9\" y=\"309.672712\"/>\n      </g>\n     </g>\n     <g id=\"text_26\">\n      <!-- 300 -->\n      <g transform=\"translate(477.42358 313.471931)scale(0.1 -0.1)\">\n       <use xlink:href=\"#DejaVuSans-51\"/>\n       <use x=\"63.623047\" xlink:href=\"#DejaVuSans-48\"/>\n       <use x=\"127.246094\" xlink:href=\"#DejaVuSans-48\"/>\n      </g>\n     </g>\n    </g>\n    <g id=\"ytick_11\">\n     <g id=\"line2d_23\">\n      <g>\n       <use style=\"stroke:#000000;stroke-width:0.8;\" x=\"503.51108\" xlink:href=\"#mc418c017d9\" y=\"252.841275\"/>\n      </g>\n     </g>\n     <g id=\"text_27\">\n      <!-- 400 -->\n      <g transform=\"translate(477.42358 256.640494)scale(0.1 -0.1)\">\n       <use xlink:href=\"#DejaVuSans-52\"/>\n       <use x=\"63.623047\" xlink:href=\"#DejaVuSans-48\"/>\n       <use x=\"127.246094\" xlink:href=\"#DejaVuSans-48\"/>\n      </g>\n     </g>\n    </g>\n    <g id=\"ytick_12\">\n     <g id=\"line2d_24\">\n      <g>\n       <use style=\"stroke:#000000;stroke-width:0.8;\" x=\"503.51108\" xlink:href=\"#mc418c017d9\" y=\"196.009839\"/>\n      </g>\n     </g>\n     <g id=\"text_28\">\n      <!-- 500 -->\n      <g transform=\"translate(477.42358 199.809057)scale(0.1 -0.1)\">\n       <use xlink:href=\"#DejaVuSans-53\"/>\n       <use x=\"63.623047\" xlink:href=\"#DejaVuSans-48\"/>\n       <use x=\"127.246094\" xlink:href=\"#DejaVuSans-48\"/>\n      </g>\n     </g>\n    </g>\n    <g id=\"ytick_13\">\n     <g id=\"line2d_25\">\n      <g>\n       <use style=\"stroke:#000000;stroke-width:0.8;\" x=\"503.51108\" xlink:href=\"#mc418c017d9\" y=\"139.178402\"/>\n      </g>\n     </g>\n     <g id=\"text_29\">\n      <!-- 600 -->\n      <g transform=\"translate(477.42358 142.977621)scale(0.1 -0.1)\">\n       <use xlink:href=\"#DejaVuSans-54\"/>\n       <use x=\"63.623047\" xlink:href=\"#DejaVuSans-48\"/>\n       <use x=\"127.246094\" xlink:href=\"#DejaVuSans-48\"/>\n      </g>\n     </g>\n    </g>\n    <g id=\"ytick_14\">\n     <g id=\"line2d_26\">\n      <g>\n       <use style=\"stroke:#000000;stroke-width:0.8;\" x=\"503.51108\" xlink:href=\"#mc418c017d9\" y=\"82.346965\"/>\n      </g>\n     </g>\n     <g id=\"text_30\">\n      <!-- 700 -->\n      <g transform=\"translate(477.42358 86.146184)scale(0.1 -0.1)\">\n       <defs>\n        <path d=\"M 8.203125 72.90625 \nL 55.078125 72.90625 \nL 55.078125 68.703125 \nL 28.609375 0 \nL 18.3125 0 \nL 43.21875 64.59375 \nL 8.203125 64.59375 \nz\n\" id=\"DejaVuSans-55\"/>\n       </defs>\n       <use xlink:href=\"#DejaVuSans-55\"/>\n       <use x=\"63.623047\" xlink:href=\"#DejaVuSans-48\"/>\n       <use x=\"127.246094\" xlink:href=\"#DejaVuSans-48\"/>\n      </g>\n     </g>\n    </g>\n    <g id=\"text_31\">\n     <!-- Cancer -->\n     <g transform=\"translate(471.343892 265.465469)rotate(-90)scale(0.1 -0.1)\">\n      <use xlink:href=\"#DejaVuSans-67\"/>\n      <use x=\"69.824219\" xlink:href=\"#DejaVuSans-97\"/>\n      <use x=\"131.103516\" xlink:href=\"#DejaVuSans-110\"/>\n      <use x=\"194.482422\" xlink:href=\"#DejaVuSans-99\"/>\n      <use x=\"249.462891\" xlink:href=\"#DejaVuSans-101\"/>\n      <use x=\"310.986328\" xlink:href=\"#DejaVuSans-114\"/>\n     </g>\n    </g>\n   </g>\n   <g id=\"patch_8\">\n    <path d=\"M 503.51108 438.12 \nL 503.51108 57.6 \n\" style=\"fill:none;stroke:#000000;stroke-linecap:square;stroke-linejoin:miter;stroke-width:0.8;\"/>\n   </g>\n   <g id=\"patch_9\">\n    <path d=\"M 883.965625 438.12 \nL 883.965625 57.6 \n\" style=\"fill:none;stroke:#000000;stroke-linecap:square;stroke-linejoin:miter;stroke-width:0.8;\"/>\n   </g>\n   <g id=\"patch_10\">\n    <path d=\"M 503.51108 438.12 \nL 883.965625 438.12 \n\" style=\"fill:none;stroke:#000000;stroke-linecap:square;stroke-linejoin:miter;stroke-width:0.8;\"/>\n   </g>\n   <g id=\"patch_11\">\n    <path d=\"M 503.51108 57.6 \nL 883.965625 57.6 \n\" style=\"fill:none;stroke:#000000;stroke-linecap:square;stroke-linejoin:miter;stroke-width:0.8;\"/>\n   </g>\n   <g id=\"text_32\">\n    <!-- FAM222B (-ve CC) -->\n    <g transform=\"translate(639.85929 51.6)scale(0.12 -0.12)\">\n     <defs>\n      <path d=\"M 9.8125 72.90625 \nL 51.703125 72.90625 \nL 51.703125 64.59375 \nL 19.671875 64.59375 \nL 19.671875 43.109375 \nL 48.578125 43.109375 \nL 48.578125 34.8125 \nL 19.671875 34.8125 \nL 19.671875 0 \nL 9.8125 0 \nz\n\" id=\"DejaVuSans-70\"/>\n      <path d=\"M 9.8125 72.90625 \nL 24.515625 72.90625 \nL 43.109375 23.296875 \nL 61.8125 72.90625 \nL 76.515625 72.90625 \nL 76.515625 0 \nL 66.890625 0 \nL 66.890625 64.015625 \nL 48.09375 14.015625 \nL 38.1875 14.015625 \nL 19.390625 64.015625 \nL 19.390625 0 \nL 9.8125 0 \nz\n\" id=\"DejaVuSans-77\"/>\n      <path d=\"M 4.890625 31.390625 \nL 31.203125 31.390625 \nL 31.203125 23.390625 \nL 4.890625 23.390625 \nz\n\" id=\"DejaVuSans-45\"/>\n     </defs>\n     <use xlink:href=\"#DejaVuSans-70\"/>\n     <use x=\"48.394531\" xlink:href=\"#DejaVuSans-65\"/>\n     <use x=\"116.802734\" xlink:href=\"#DejaVuSans-77\"/>\n     <use x=\"203.082031\" xlink:href=\"#DejaVuSans-50\"/>\n     <use x=\"266.705078\" xlink:href=\"#DejaVuSans-50\"/>\n     <use x=\"330.328125\" xlink:href=\"#DejaVuSans-50\"/>\n     <use x=\"393.951172\" xlink:href=\"#DejaVuSans-66\"/>\n     <use x=\"462.554688\" xlink:href=\"#DejaVuSans-32\"/>\n     <use x=\"494.341797\" xlink:href=\"#DejaVuSans-40\"/>\n     <use x=\"533.355469\" xlink:href=\"#DejaVuSans-45\"/>\n     <use x=\"566.814453\" xlink:href=\"#DejaVuSans-118\"/>\n     <use x=\"625.994141\" xlink:href=\"#DejaVuSans-101\"/>\n     <use x=\"687.517578\" xlink:href=\"#DejaVuSans-32\"/>\n     <use x=\"719.304688\" xlink:href=\"#DejaVuSans-67\"/>\n     <use x=\"789.128906\" xlink:href=\"#DejaVuSans-67\"/>\n     <use x=\"858.953125\" xlink:href=\"#DejaVuSans-41\"/>\n    </g>\n   </g>\n  </g>\n  <g id=\"text_33\">\n   <!-- Genes with the Highest and Lowest Correlation Coefficient -->\n   <g transform=\"translate(276.507813 16.318125)scale(0.12 -0.12)\">\n    <defs>\n     <path d=\"M 44.28125 53.078125 \nL 44.28125 44.578125 \nQ 40.484375 46.53125 36.375 47.5 \nQ 32.28125 48.484375 27.875 48.484375 \nQ 21.1875 48.484375 17.84375 46.4375 \nQ 14.5 44.390625 14.5 40.28125 \nQ 14.5 37.15625 16.890625 35.375 \nQ 19.28125 33.59375 26.515625 31.984375 \nL 29.59375 31.296875 \nQ 39.15625 29.25 43.1875 25.515625 \nQ 47.21875 21.78125 47.21875 15.09375 \nQ 47.21875 7.46875 41.1875 3.015625 \nQ 35.15625 -1.421875 24.609375 -1.421875 \nQ 20.21875 -1.421875 15.453125 -0.5625 \nQ 10.6875 0.296875 5.421875 2 \nL 5.421875 11.28125 \nQ 10.40625 8.6875 15.234375 7.390625 \nQ 20.0625 6.109375 24.8125 6.109375 \nQ 31.15625 6.109375 34.5625 8.28125 \nQ 37.984375 10.453125 37.984375 14.40625 \nQ 37.984375 18.0625 35.515625 20.015625 \nQ 33.0625 21.96875 24.703125 23.78125 \nL 21.578125 24.515625 \nQ 13.234375 26.265625 9.515625 29.90625 \nQ 5.8125 33.546875 5.8125 39.890625 \nQ 5.8125 47.609375 11.28125 51.796875 \nQ 16.75 56 26.8125 56 \nQ 31.78125 56 36.171875 55.265625 \nQ 40.578125 54.546875 44.28125 53.078125 \nz\n\" id=\"DejaVuSans-115\"/>\n     <path d=\"M 4.203125 54.6875 \nL 13.1875 54.6875 \nL 24.421875 12.015625 \nL 35.59375 54.6875 \nL 46.1875 54.6875 \nL 57.421875 12.015625 \nL 68.609375 54.6875 \nL 77.59375 54.6875 \nL 63.28125 0 \nL 52.6875 0 \nL 40.921875 44.828125 \nL 29.109375 0 \nL 18.5 0 \nz\n\" id=\"DejaVuSans-119\"/>\n     <path d=\"M 9.421875 54.6875 \nL 18.40625 54.6875 \nL 18.40625 0 \nL 9.421875 0 \nz\nM 9.421875 75.984375 \nL 18.40625 75.984375 \nL 18.40625 64.59375 \nL 9.421875 64.59375 \nz\n\" id=\"DejaVuSans-105\"/>\n     <path d=\"M 45.40625 27.984375 \nQ 45.40625 37.75 41.375 43.109375 \nQ 37.359375 48.484375 30.078125 48.484375 \nQ 22.859375 48.484375 18.828125 43.109375 \nQ 14.796875 37.75 14.796875 27.984375 \nQ 14.796875 18.265625 18.828125 12.890625 \nQ 22.859375 7.515625 30.078125 7.515625 \nQ 37.359375 7.515625 41.375 12.890625 \nQ 45.40625 18.265625 45.40625 27.984375 \nz\nM 54.390625 6.78125 \nQ 54.390625 -7.171875 48.1875 -13.984375 \nQ 42 -20.796875 29.203125 -20.796875 \nQ 24.46875 -20.796875 20.265625 -20.09375 \nQ 16.0625 -19.390625 12.109375 -17.921875 \nL 12.109375 -9.1875 \nQ 16.0625 -11.328125 19.921875 -12.34375 \nQ 23.78125 -13.375 27.78125 -13.375 \nQ 36.625 -13.375 41.015625 -8.765625 \nQ 45.40625 -4.15625 45.40625 5.171875 \nL 45.40625 9.625 \nQ 42.625 4.78125 38.28125 2.390625 \nQ 33.9375 0 27.875 0 \nQ 17.828125 0 11.671875 7.65625 \nQ 5.515625 15.328125 5.515625 27.984375 \nQ 5.515625 40.671875 11.671875 48.328125 \nQ 17.828125 56 27.875 56 \nQ 33.9375 56 38.28125 53.609375 \nQ 42.625 51.21875 45.40625 46.390625 \nL 45.40625 54.6875 \nL 54.390625 54.6875 \nz\n\" id=\"DejaVuSans-103\"/>\n     <path d=\"M 45.40625 46.390625 \nL 45.40625 75.984375 \nL 54.390625 75.984375 \nL 54.390625 0 \nL 45.40625 0 \nL 45.40625 8.203125 \nQ 42.578125 3.328125 38.25 0.953125 \nQ 33.9375 -1.421875 27.875 -1.421875 \nQ 17.96875 -1.421875 11.734375 6.484375 \nQ 5.515625 14.40625 5.515625 27.296875 \nQ 5.515625 40.1875 11.734375 48.09375 \nQ 17.96875 56 27.875 56 \nQ 33.9375 56 38.25 53.625 \nQ 42.578125 51.265625 45.40625 46.390625 \nz\nM 14.796875 27.296875 \nQ 14.796875 17.390625 18.875 11.75 \nQ 22.953125 6.109375 30.078125 6.109375 \nQ 37.203125 6.109375 41.296875 11.75 \nQ 45.40625 17.390625 45.40625 27.296875 \nQ 45.40625 37.203125 41.296875 42.84375 \nQ 37.203125 48.484375 30.078125 48.484375 \nQ 22.953125 48.484375 18.875 42.84375 \nQ 14.796875 37.203125 14.796875 27.296875 \nz\n\" id=\"DejaVuSans-100\"/>\n     <path d=\"M 9.8125 72.90625 \nL 19.671875 72.90625 \nL 19.671875 8.296875 \nL 55.171875 8.296875 \nL 55.171875 0 \nL 9.8125 0 \nz\n\" id=\"DejaVuSans-76\"/>\n     <path d=\"M 30.609375 48.390625 \nQ 23.390625 48.390625 19.1875 42.75 \nQ 14.984375 37.109375 14.984375 27.296875 \nQ 14.984375 17.484375 19.15625 11.84375 \nQ 23.34375 6.203125 30.609375 6.203125 \nQ 37.796875 6.203125 41.984375 11.859375 \nQ 46.1875 17.53125 46.1875 27.296875 \nQ 46.1875 37.015625 41.984375 42.703125 \nQ 37.796875 48.390625 30.609375 48.390625 \nz\nM 30.609375 56 \nQ 42.328125 56 49.015625 48.375 \nQ 55.71875 40.765625 55.71875 27.296875 \nQ 55.71875 13.875 49.015625 6.21875 \nQ 42.328125 -1.421875 30.609375 -1.421875 \nQ 18.84375 -1.421875 12.171875 6.21875 \nQ 5.515625 13.875 5.515625 27.296875 \nQ 5.515625 40.765625 12.171875 48.375 \nQ 18.84375 56 30.609375 56 \nz\n\" id=\"DejaVuSans-111\"/>\n     <path d=\"M 37.109375 75.984375 \nL 37.109375 68.5 \nL 28.515625 68.5 \nQ 23.6875 68.5 21.796875 66.546875 \nQ 19.921875 64.59375 19.921875 59.515625 \nL 19.921875 54.6875 \nL 34.71875 54.6875 \nL 34.71875 47.703125 \nL 19.921875 47.703125 \nL 19.921875 0 \nL 10.890625 0 \nL 10.890625 47.703125 \nL 2.296875 47.703125 \nL 2.296875 54.6875 \nL 10.890625 54.6875 \nL 10.890625 58.5 \nQ 10.890625 67.625 15.140625 71.796875 \nQ 19.390625 75.984375 28.609375 75.984375 \nz\n\" id=\"DejaVuSans-102\"/>\n    </defs>\n    <use xlink:href=\"#DejaVuSans-71\"/>\n    <use x=\"77.490234\" xlink:href=\"#DejaVuSans-101\"/>\n    <use x=\"139.013672\" xlink:href=\"#DejaVuSans-110\"/>\n    <use x=\"202.392578\" xlink:href=\"#DejaVuSans-101\"/>\n    <use x=\"263.916016\" xlink:href=\"#DejaVuSans-115\"/>\n    <use x=\"316.015625\" xlink:href=\"#DejaVuSans-32\"/>\n    <use x=\"347.802734\" xlink:href=\"#DejaVuSans-119\"/>\n    <use x=\"429.589844\" xlink:href=\"#DejaVuSans-105\"/>\n    <use x=\"457.373047\" xlink:href=\"#DejaVuSans-116\"/>\n    <use x=\"496.582031\" xlink:href=\"#DejaVuSans-104\"/>\n    <use x=\"559.960938\" xlink:href=\"#DejaVuSans-32\"/>\n    <use x=\"591.748047\" xlink:href=\"#DejaVuSans-116\"/>\n    <use x=\"630.957031\" xlink:href=\"#DejaVuSans-104\"/>\n    <use x=\"694.335938\" xlink:href=\"#DejaVuSans-101\"/>\n    <use x=\"755.859375\" xlink:href=\"#DejaVuSans-32\"/>\n    <use x=\"787.646484\" xlink:href=\"#DejaVuSans-72\"/>\n    <use x=\"862.841797\" xlink:href=\"#DejaVuSans-105\"/>\n    <use x=\"890.625\" xlink:href=\"#DejaVuSans-103\"/>\n    <use x=\"954.101562\" xlink:href=\"#DejaVuSans-104\"/>\n    <use x=\"1017.480469\" xlink:href=\"#DejaVuSans-101\"/>\n    <use x=\"1079.003906\" xlink:href=\"#DejaVuSans-115\"/>\n    <use x=\"1131.103516\" xlink:href=\"#DejaVuSans-116\"/>\n    <use x=\"1170.3125\" xlink:href=\"#DejaVuSans-32\"/>\n    <use x=\"1202.099609\" xlink:href=\"#DejaVuSans-97\"/>\n    <use x=\"1263.378906\" xlink:href=\"#DejaVuSans-110\"/>\n    <use x=\"1326.757812\" xlink:href=\"#DejaVuSans-100\"/>\n    <use x=\"1390.234375\" xlink:href=\"#DejaVuSans-32\"/>\n    <use x=\"1422.021484\" xlink:href=\"#DejaVuSans-76\"/>\n    <use x=\"1475.984375\" xlink:href=\"#DejaVuSans-111\"/>\n    <use x=\"1537.166016\" xlink:href=\"#DejaVuSans-119\"/>\n    <use x=\"1618.953125\" xlink:href=\"#DejaVuSans-101\"/>\n    <use x=\"1680.476562\" xlink:href=\"#DejaVuSans-115\"/>\n    <use x=\"1732.576172\" xlink:href=\"#DejaVuSans-116\"/>\n    <use x=\"1771.785156\" xlink:href=\"#DejaVuSans-32\"/>\n    <use x=\"1803.572266\" xlink:href=\"#DejaVuSans-67\"/>\n    <use x=\"1873.396484\" xlink:href=\"#DejaVuSans-111\"/>\n    <use x=\"1934.578125\" xlink:href=\"#DejaVuSans-114\"/>\n    <use x=\"1973.941406\" xlink:href=\"#DejaVuSans-114\"/>\n    <use x=\"2012.804688\" xlink:href=\"#DejaVuSans-101\"/>\n    <use x=\"2074.328125\" xlink:href=\"#DejaVuSans-108\"/>\n    <use x=\"2102.111328\" xlink:href=\"#DejaVuSans-97\"/>\n    <use x=\"2163.390625\" xlink:href=\"#DejaVuSans-116\"/>\n    <use x=\"2202.599609\" xlink:href=\"#DejaVuSans-105\"/>\n    <use x=\"2230.382812\" xlink:href=\"#DejaVuSans-111\"/>\n    <use x=\"2291.564453\" xlink:href=\"#DejaVuSans-110\"/>\n    <use x=\"2354.943359\" xlink:href=\"#DejaVuSans-32\"/>\n    <use x=\"2386.730469\" xlink:href=\"#DejaVuSans-67\"/>\n    <use x=\"2456.554688\" xlink:href=\"#DejaVuSans-111\"/>\n    <use x=\"2517.736328\" xlink:href=\"#DejaVuSans-101\"/>\n    <use x=\"2579.259766\" xlink:href=\"#DejaVuSans-102\"/>\n    <use x=\"2614.464844\" xlink:href=\"#DejaVuSans-102\"/>\n    <use x=\"2649.669922\" xlink:href=\"#DejaVuSans-105\"/>\n    <use x=\"2677.453125\" xlink:href=\"#DejaVuSans-99\"/>\n    <use x=\"2732.433594\" xlink:href=\"#DejaVuSans-105\"/>\n    <use x=\"2760.216797\" xlink:href=\"#DejaVuSans-101\"/>\n    <use x=\"2821.740234\" xlink:href=\"#DejaVuSans-110\"/>\n    <use x=\"2885.119141\" xlink:href=\"#DejaVuSans-116\"/>\n   </g>\n  </g>\n </g>\n <defs>\n  <clipPath id=\"pcc5ec7f843\">\n   <rect height=\"380.52\" width=\"380.454545\" x=\"46.965625\" y=\"57.6\"/>\n  </clipPath>\n  <clipPath id=\"p3ff5c63fb3\">\n   <rect height=\"380.52\" width=\"380.454545\" x=\"503.51108\" y=\"57.6\"/>\n  </clipPath>\n </defs>\n</svg>\n",
      "image/png": "[encoded data removed]"
     },
     "metadata": {
      "needs_background": "light"
     }
    }
   ],
   "source": [
    "#Plot Genes with most +ve and -ve correlation coeficient\n",
    "fig,(ax1,ax2) = plt.subplots(1,2,figsize=(15,7))\n",
    "\n",
    "ax1.scatter(filtered_healthy_df.iloc[[max_gene['Hugo_Symbol'].index[0]],2:],filtered_cancer_df.iloc[[max_gene['Hugo_Symbol'].index[0]],2:])\n",
    "ax1.set(ylabel=\"Cancer\",xlabel=\"Healthy\",title=\"{} (+ve CC)\".format(max_gene['Hugo_Symbol'].iloc[0]))\n",
    "\n",
    "ax2.scatter(filtered_healthy_df.iloc[[min_gene['Hugo_Symbol'].index[0]],2:],filtered_cancer_df.iloc[[min_gene['Hugo_Symbol'].index[0]],2:])\n",
    "ax2.set(ylabel=\"Cancer\",xlabel=\"Healthy\",title=\"{} (-ve CC)\".format(min_gene['Hugo_Symbol'].iloc[0]))\n",
    "\n",
    "fig.suptitle(\"Genes with the Highest and Lowest Correlation Coefficient\")"
   ]
  },
  {
   "source": [
    "Paired Samples"
   ],
   "cell_type": "markdown",
   "metadata": {}
  },
  {
   "cell_type": "code",
   "execution_count": 11,
   "metadata": {},
   "outputs": [],
   "source": [
    "#Calculate p-values in case of paired samples\n",
    "p_values_paired = [stats.ttest_rel(h_row[1][2:],c_row[1][2:]).pvalue for h_row,c_row in zip(filtered_healthy_df.iterrows(),filtered_cancer_df.iterrows())]"
   ]
  },
  {
   "cell_type": "code",
   "execution_count": 12,
   "metadata": {},
   "outputs": [
    {
     "output_type": "execute_result",
     "data": {
      "text/plain": [
       "  Hugo_Symbol       p_value\n",
       "0    HIST3H2A  4.043607e-08\n",
       "1       LIN7B  2.891646e-01\n",
       "2         LXN  2.322367e-04\n",
       "3      CNKSR2  3.420577e-12\n",
       "4       SCML1  6.251346e-02"
      ],
      "text/html": "<div>\n<style scoped>\n    .dataframe tbody tr th:only-of-type {\n        vertical-align: middle;\n    }\n\n    .dataframe tbody tr th {\n        vertical-align: top;\n    }\n\n    .dataframe thead th {\n        text-align: right;\n    }\n</style>\n<table border=\"1\" class=\"dataframe\">\n  <thead>\n    <tr style=\"text-align: right;\">\n      <th></th>\n      <th>Hugo_Symbol</th>\n      <th>p_value</th>\n    </tr>\n  </thead>\n  <tbody>\n    <tr>\n      <th>0</th>\n      <td>HIST3H2A</td>\n      <td>4.043607e-08</td>\n    </tr>\n    <tr>\n      <th>1</th>\n      <td>LIN7B</td>\n      <td>2.891646e-01</td>\n    </tr>\n    <tr>\n      <th>2</th>\n      <td>LXN</td>\n      <td>2.322367e-04</td>\n    </tr>\n    <tr>\n      <th>3</th>\n      <td>CNKSR2</td>\n      <td>3.420577e-12</td>\n    </tr>\n    <tr>\n      <th>4</th>\n      <td>SCML1</td>\n      <td>6.251346e-02</td>\n    </tr>\n  </tbody>\n</table>\n</div>"
     },
     "metadata": {},
     "execution_count": 12
    }
   ],
   "source": [
    "p_values_paired_df = pd.DataFrame(p_values_paired,columns=['p_value'])\n",
    "p_values_paired_df.insert(0,'Hugo_Symbol',filtered_healthy_df['Hugo_Symbol'])\n",
    "p_values_paired_df.head(5)"
   ]
  },
  {
   "cell_type": "code",
   "execution_count": 13,
   "metadata": {},
   "outputs": [
    {
     "output_type": "execute_result",
     "data": {
      "text/plain": [
       "  Hugo_Symbol       p_value  p_value_correction  p_value_result  \\\n",
       "0    HIST3H2A  4.043607e-08        1.461642e-07            True   \n",
       "1       LIN7B  2.891646e-01        3.366356e-01           False   \n",
       "2         LXN  2.322367e-04        4.609095e-04            True   \n",
       "3      CNKSR2  3.420577e-12        2.470826e-11            True   \n",
       "4       SCML1  6.251346e-02        8.378157e-02           False   \n",
       "\n",
       "   p_value_correction_result  \n",
       "0                       True  \n",
       "1                      False  \n",
       "2                       True  \n",
       "3                       True  \n",
       "4                      False  "
      ],
      "text/html": "<div>\n<style scoped>\n    .dataframe tbody tr th:only-of-type {\n        vertical-align: middle;\n    }\n\n    .dataframe tbody tr th {\n        vertical-align: top;\n    }\n\n    .dataframe thead th {\n        text-align: right;\n    }\n</style>\n<table border=\"1\" class=\"dataframe\">\n  <thead>\n    <tr style=\"text-align: right;\">\n      <th></th>\n      <th>Hugo_Symbol</th>\n      <th>p_value</th>\n      <th>p_value_correction</th>\n      <th>p_value_result</th>\n      <th>p_value_correction_result</th>\n    </tr>\n  </thead>\n  <tbody>\n    <tr>\n      <th>0</th>\n      <td>HIST3H2A</td>\n      <td>4.043607e-08</td>\n      <td>1.461642e-07</td>\n      <td>True</td>\n      <td>True</td>\n    </tr>\n    <tr>\n      <th>1</th>\n      <td>LIN7B</td>\n      <td>2.891646e-01</td>\n      <td>3.366356e-01</td>\n      <td>False</td>\n      <td>False</td>\n    </tr>\n    <tr>\n      <th>2</th>\n      <td>LXN</td>\n      <td>2.322367e-04</td>\n      <td>4.609095e-04</td>\n      <td>True</td>\n      <td>True</td>\n    </tr>\n    <tr>\n      <th>3</th>\n      <td>CNKSR2</td>\n      <td>3.420577e-12</td>\n      <td>2.470826e-11</td>\n      <td>True</td>\n      <td>True</td>\n    </tr>\n    <tr>\n      <th>4</th>\n      <td>SCML1</td>\n      <td>6.251346e-02</td>\n      <td>8.378157e-02</td>\n      <td>False</td>\n      <td>False</td>\n    </tr>\n  </tbody>\n</table>\n</div>"
     },
     "metadata": {},
     "execution_count": 13
    }
   ],
   "source": [
    "# Apply FDR Correction\n",
    "from statsmodels.stats.multitest import multipletests\n",
    "fdr_correction = multipletests(p_values_paired_df['p_value'],alpha=0.05,method='fdr_bh')\n",
    "p_values_paired_df[\"p_value_correction\"] = fdr_correction[1]\n",
    "p_values_paired_df[\"p_value_result\"] = p_values_paired_df['p_value'].apply(lambda val: val <  0.05)\n",
    "p_values_paired_df[\"p_value_correction_result\"] = fdr_correction[0]\n",
    "p_values_paired_df.head(5)"
   ]
  },
  {
   "cell_type": "code",
   "execution_count": 14,
   "metadata": {},
   "outputs": [
    {
     "output_type": "stream",
     "name": "stdout",
     "text": [
      "(12787, 1)\n"
     ]
    },
    {
     "output_type": "execute_result",
     "data": {
      "text/plain": [
       "  Hugo_Symbol\n",
       "0    HIST3H2A\n",
       "2         LXN\n",
       "3      CNKSR2\n",
       "6       GSDMD\n",
       "7      AKR1C1"
      ],
      "text/html": "<div>\n<style scoped>\n    .dataframe tbody tr th:only-of-type {\n        vertical-align: middle;\n    }\n\n    .dataframe tbody tr th {\n        vertical-align: top;\n    }\n\n    .dataframe thead th {\n        text-align: right;\n    }\n</style>\n<table border=\"1\" class=\"dataframe\">\n  <thead>\n    <tr style=\"text-align: right;\">\n      <th></th>\n      <th>Hugo_Symbol</th>\n    </tr>\n  </thead>\n  <tbody>\n    <tr>\n      <th>0</th>\n      <td>HIST3H2A</td>\n    </tr>\n    <tr>\n      <th>2</th>\n      <td>LXN</td>\n    </tr>\n    <tr>\n      <th>3</th>\n      <td>CNKSR2</td>\n    </tr>\n    <tr>\n      <th>6</th>\n      <td>GSDMD</td>\n    </tr>\n    <tr>\n      <th>7</th>\n      <td>AKR1C1</td>\n    </tr>\n  </tbody>\n</table>\n</div>"
     },
     "metadata": {},
     "execution_count": 14
    }
   ],
   "source": [
    "#Genes before correction \n",
    "deg_paired_df = p_values_paired_df[p_values_paired_df[\"p_value_result\"] == True][[\"Hugo_Symbol\"]]\n",
    "print(deg_paired_df.shape)\n",
    "deg_paired_df.head()"
   ]
  },
  {
   "cell_type": "code",
   "execution_count": 15,
   "metadata": {},
   "outputs": [
    {
     "output_type": "stream",
     "name": "stdout",
     "text": [
      "(12469, 1)\n"
     ]
    },
    {
     "output_type": "execute_result",
     "data": {
      "text/plain": [
       "  Hugo_Symbol\n",
       "0    HIST3H2A\n",
       "2         LXN\n",
       "3      CNKSR2\n",
       "6       GSDMD\n",
       "7      AKR1C1"
      ],
      "text/html": "<div>\n<style scoped>\n    .dataframe tbody tr th:only-of-type {\n        vertical-align: middle;\n    }\n\n    .dataframe tbody tr th {\n        vertical-align: top;\n    }\n\n    .dataframe thead th {\n        text-align: right;\n    }\n</style>\n<table border=\"1\" class=\"dataframe\">\n  <thead>\n    <tr style=\"text-align: right;\">\n      <th></th>\n      <th>Hugo_Symbol</th>\n    </tr>\n  </thead>\n  <tbody>\n    <tr>\n      <th>0</th>\n      <td>HIST3H2A</td>\n    </tr>\n    <tr>\n      <th>2</th>\n      <td>LXN</td>\n    </tr>\n    <tr>\n      <th>3</th>\n      <td>CNKSR2</td>\n    </tr>\n    <tr>\n      <th>6</th>\n      <td>GSDMD</td>\n    </tr>\n    <tr>\n      <th>7</th>\n      <td>AKR1C1</td>\n    </tr>\n  </tbody>\n</table>\n</div>"
     },
     "metadata": {},
     "execution_count": 15
    }
   ],
   "source": [
    "#Genes after correction\n",
    "deg_paired_corrected_df = p_values_paired_df[p_values_paired_df[\"p_value_correction_result\"] == True][[\"Hugo_Symbol\"]]\n",
    "print(deg_paired_corrected_df.shape)\n",
    "deg_paired_corrected_df.head()"
   ]
  },
  {
   "source": [
    "Independent Samples"
   ],
   "cell_type": "markdown",
   "metadata": {}
  },
  {
   "cell_type": "code",
   "execution_count": 16,
   "metadata": {},
   "outputs": [],
   "source": [
    "#Calculate p-values in case of independent samples\n",
    "p_values_independent = [stats.ttest_ind(h_row[1][2:],c_row[1][2:]).pvalue for h_row,c_row in zip(filtered_healthy_df.iterrows(),filtered_cancer_df.iterrows())]"
   ]
  },
  {
   "cell_type": "code",
   "execution_count": 17,
   "metadata": {},
   "outputs": [
    {
     "output_type": "execute_result",
     "data": {
      "text/plain": [
       "  Hugo_Symbol       p_value\n",
       "0    HIST3H2A  3.607140e-09\n",
       "1       LIN7B  3.138295e-01\n",
       "2         LXN  8.164044e-05\n",
       "3      CNKSR2  6.374652e-15\n",
       "4       SCML1  4.726590e-02"
      ],
      "text/html": "<div>\n<style scoped>\n    .dataframe tbody tr th:only-of-type {\n        vertical-align: middle;\n    }\n\n    .dataframe tbody tr th {\n        vertical-align: top;\n    }\n\n    .dataframe thead th {\n        text-align: right;\n    }\n</style>\n<table border=\"1\" class=\"dataframe\">\n  <thead>\n    <tr style=\"text-align: right;\">\n      <th></th>\n      <th>Hugo_Symbol</th>\n      <th>p_value</th>\n    </tr>\n  </thead>\n  <tbody>\n    <tr>\n      <th>0</th>\n      <td>HIST3H2A</td>\n      <td>3.607140e-09</td>\n    </tr>\n    <tr>\n      <th>1</th>\n      <td>LIN7B</td>\n      <td>3.138295e-01</td>\n    </tr>\n    <tr>\n      <th>2</th>\n      <td>LXN</td>\n      <td>8.164044e-05</td>\n    </tr>\n    <tr>\n      <th>3</th>\n      <td>CNKSR2</td>\n      <td>6.374652e-15</td>\n    </tr>\n    <tr>\n      <th>4</th>\n      <td>SCML1</td>\n      <td>4.726590e-02</td>\n    </tr>\n  </tbody>\n</table>\n</div>"
     },
     "metadata": {},
     "execution_count": 17
    }
   ],
   "source": [
    "p_values_independent_df = pd.DataFrame(p_values_independent,columns=['p_value'])\n",
    "p_values_independent_df.insert(0,'Hugo_Symbol',filtered_healthy_df['Hugo_Symbol'])\n",
    "p_values_independent_df.head(5)"
   ]
  },
  {
   "cell_type": "code",
   "execution_count": 18,
   "metadata": {},
   "outputs": [
    {
     "output_type": "execute_result",
     "data": {
      "text/plain": [
       "  Hugo_Symbol       p_value  p_value_correction  p_value_result  \\\n",
       "0    HIST3H2A  3.607140e-09        1.385939e-08            True   \n",
       "1       LIN7B  3.138295e-01        3.639663e-01           False   \n",
       "2         LXN  8.164044e-05        1.728967e-04            True   \n",
       "3      CNKSR2  6.374652e-15        5.070389e-14            True   \n",
       "4       SCML1  4.726590e-02        6.521895e-02            True   \n",
       "\n",
       "   p_value_correction_result  \n",
       "0                       True  \n",
       "1                      False  \n",
       "2                       True  \n",
       "3                       True  \n",
       "4                      False  "
      ],
      "text/html": "<div>\n<style scoped>\n    .dataframe tbody tr th:only-of-type {\n        vertical-align: middle;\n    }\n\n    .dataframe tbody tr th {\n        vertical-align: top;\n    }\n\n    .dataframe thead th {\n        text-align: right;\n    }\n</style>\n<table border=\"1\" class=\"dataframe\">\n  <thead>\n    <tr style=\"text-align: right;\">\n      <th></th>\n      <th>Hugo_Symbol</th>\n      <th>p_value</th>\n      <th>p_value_correction</th>\n      <th>p_value_result</th>\n      <th>p_value_correction_result</th>\n    </tr>\n  </thead>\n  <tbody>\n    <tr>\n      <th>0</th>\n      <td>HIST3H2A</td>\n      <td>3.607140e-09</td>\n      <td>1.385939e-08</td>\n      <td>True</td>\n      <td>True</td>\n    </tr>\n    <tr>\n      <th>1</th>\n      <td>LIN7B</td>\n      <td>3.138295e-01</td>\n      <td>3.639663e-01</td>\n      <td>False</td>\n      <td>False</td>\n    </tr>\n    <tr>\n      <th>2</th>\n      <td>LXN</td>\n      <td>8.164044e-05</td>\n      <td>1.728967e-04</td>\n      <td>True</td>\n      <td>True</td>\n    </tr>\n    <tr>\n      <th>3</th>\n      <td>CNKSR2</td>\n      <td>6.374652e-15</td>\n      <td>5.070389e-14</td>\n      <td>True</td>\n      <td>True</td>\n    </tr>\n    <tr>\n      <th>4</th>\n      <td>SCML1</td>\n      <td>4.726590e-02</td>\n      <td>6.521895e-02</td>\n      <td>True</td>\n      <td>False</td>\n    </tr>\n  </tbody>\n</table>\n</div>"
     },
     "metadata": {},
     "execution_count": 18
    }
   ],
   "source": [
    "# Apply FDR Correction\n",
    "fdr_correction = multipletests(p_values_independent_df['p_value'],alpha=0.05,method='fdr_bh')\n",
    "p_values_independent_df[\"p_value_correction\"] = fdr_correction[1]\n",
    "p_values_independent_df[\"p_value_result\"] = p_values_independent_df['p_value'].apply(lambda val: val <  0.05)\n",
    "p_values_independent_df[\"p_value_correction_result\"] = fdr_correction[0]\n",
    "p_values_independent_df.head(5)"
   ]
  },
  {
   "cell_type": "code",
   "execution_count": 19,
   "metadata": {},
   "outputs": [
    {
     "output_type": "stream",
     "name": "stdout",
     "text": [
      "(12694, 1)\n"
     ]
    },
    {
     "output_type": "execute_result",
     "data": {
      "text/plain": [
       "  Hugo_Symbol\n",
       "0    HIST3H2A\n",
       "2         LXN\n",
       "3      CNKSR2\n",
       "4       SCML1\n",
       "6       GSDMD"
      ],
      "text/html": "<div>\n<style scoped>\n    .dataframe tbody tr th:only-of-type {\n        vertical-align: middle;\n    }\n\n    .dataframe tbody tr th {\n        vertical-align: top;\n    }\n\n    .dataframe thead th {\n        text-align: right;\n    }\n</style>\n<table border=\"1\" class=\"dataframe\">\n  <thead>\n    <tr style=\"text-align: right;\">\n      <th></th>\n      <th>Hugo_Symbol</th>\n    </tr>\n  </thead>\n  <tbody>\n    <tr>\n      <th>0</th>\n      <td>HIST3H2A</td>\n    </tr>\n    <tr>\n      <th>2</th>\n      <td>LXN</td>\n    </tr>\n    <tr>\n      <th>3</th>\n      <td>CNKSR2</td>\n    </tr>\n    <tr>\n      <th>4</th>\n      <td>SCML1</td>\n    </tr>\n    <tr>\n      <th>6</th>\n      <td>GSDMD</td>\n    </tr>\n  </tbody>\n</table>\n</div>"
     },
     "metadata": {},
     "execution_count": 19
    }
   ],
   "source": [
    "#Genes before correction \n",
    "deg_independent_df = p_values_independent_df[p_values_independent_df[\"p_value_result\"] == True][[\"Hugo_Symbol\"]]\n",
    "print(deg_independent_df.shape)\n",
    "deg_independent_df.head()"
   ]
  },
  {
   "cell_type": "code",
   "execution_count": 20,
   "metadata": {},
   "outputs": [
    {
     "output_type": "stream",
     "name": "stdout",
     "text": [
      "(12380, 1)\n"
     ]
    },
    {
     "output_type": "execute_result",
     "data": {
      "text/plain": [
       "  Hugo_Symbol\n",
       "0    HIST3H2A\n",
       "2         LXN\n",
       "3      CNKSR2\n",
       "6       GSDMD\n",
       "7      AKR1C1"
      ],
      "text/html": "<div>\n<style scoped>\n    .dataframe tbody tr th:only-of-type {\n        vertical-align: middle;\n    }\n\n    .dataframe tbody tr th {\n        vertical-align: top;\n    }\n\n    .dataframe thead th {\n        text-align: right;\n    }\n</style>\n<table border=\"1\" class=\"dataframe\">\n  <thead>\n    <tr style=\"text-align: right;\">\n      <th></th>\n      <th>Hugo_Symbol</th>\n    </tr>\n  </thead>\n  <tbody>\n    <tr>\n      <th>0</th>\n      <td>HIST3H2A</td>\n    </tr>\n    <tr>\n      <th>2</th>\n      <td>LXN</td>\n    </tr>\n    <tr>\n      <th>3</th>\n      <td>CNKSR2</td>\n    </tr>\n    <tr>\n      <th>6</th>\n      <td>GSDMD</td>\n    </tr>\n    <tr>\n      <th>7</th>\n      <td>AKR1C1</td>\n    </tr>\n  </tbody>\n</table>\n</div>"
     },
     "metadata": {},
     "execution_count": 20
    }
   ],
   "source": [
    "#Genes after correction\n",
    "deg_independent_corrected_df = p_values_paired_df[p_values_independent_df[\"p_value_correction_result\"] == True][[\"Hugo_Symbol\"]]\n",
    "print(deg_independent_corrected_df.shape)\n",
    "deg_independent_corrected_df.head()"
   ]
  }
 ]
}